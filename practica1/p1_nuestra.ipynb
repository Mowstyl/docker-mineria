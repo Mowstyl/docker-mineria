{
 "cells": [
  {
   "cell_type": "markdown",
   "metadata": {},
   "source": [
    "# Practica 1 - Preprocesamiento de datos y evaluación de modelos de clasificación/regresión.\n",
    "\n",
    "## Minería de Datos 2017/2018\n",
    "\n",
    "* **Hernan Indibil de La Cruz Calvo**\n",
    "* **Alejandro Martín Simón Sánchez**\n"
   ]
  },
  {
   "cell_type": "markdown",
   "metadata": {},
   "source": [
    "### Preliminares"
   ]
  },
  {
   "cell_type": "code",
   "execution_count": 1,
   "metadata": {},
   "outputs": [],
   "source": [
    "# Se cargan los paquetes que se suelen utilizar\n",
    "import numpy as np\n",
    "import pandas as pd\n",
    "from scipy import stats, integrate\n",
    "import matplotlib as mpl\n",
    "import matplotlib.pyplot as plt\n",
    "\n",
    "import seaborn as sns\n",
    "sns.set(color_codes=True)\n",
    "\n",
    "# Misc\n",
    "import base64"
   ]
  },
  {
   "cell_type": "code",
   "execution_count": 2,
   "metadata": {},
   "outputs": [],
   "source": [
    "# Se configura matplotlib adecuadamente\n",
    "%matplotlib inline\n",
    "mpl.rcParams[\"figure.figsize\"] = \"8, 4\"\n",
    "import warnings\n",
    "warnings.simplefilter(\"ignore\")"
   ]
  },
  {
   "cell_type": "code",
   "execution_count": 3,
   "metadata": {},
   "outputs": [],
   "source": [
    "# Se establece una semilla predeterminada para que los experimentos sean reproducibles\n",
    "seed = 6470\n",
    "np.random.seed(seed)"
   ]
  },
  {
   "cell_type": "markdown",
   "metadata": {},
   "source": [
    "* **Lo siguiente es cargar los datos que se van a utilizar.**\n",
    "\n",
    "    Se usa como label la variable categórica."
   ]
  },
  {
   "cell_type": "code",
   "execution_count": 4,
   "metadata": {},
   "outputs": [],
   "source": [
    "# Diccionario de nombre: fichero, con los datos de los dataframe a cargar\n",
    "files = {\n",
    "    'pima': '../data/pima.csv',\n",
    "    'wisconsin': '../data/wisconsin.csv'\n",
    "}"
   ]
  },
  {
   "cell_type": "code",
   "execution_count": 5,
   "metadata": {},
   "outputs": [],
   "source": [
    "# Se cargan los dataframes\n",
    "dfs = {name: pd.read_csv(file, dtype={ \"label\": 'category'}) for name, file in files.items()}"
   ]
  },
  {
   "cell_type": "code",
   "execution_count": 6,
   "metadata": {},
   "outputs": [
    {
     "data": {
      "text/html": [
       "<div>\n",
       "<style>\n",
       "    .dataframe thead tr:only-child th {\n",
       "        text-align: right;\n",
       "    }\n",
       "\n",
       "    .dataframe thead th {\n",
       "        text-align: left;\n",
       "    }\n",
       "\n",
       "    .dataframe tbody tr th {\n",
       "        vertical-align: top;\n",
       "    }\n",
       "</style>\n",
       "<table border=\"1\" class=\"dataframe\">\n",
       "  <thead>\n",
       "    <tr style=\"text-align: right;\">\n",
       "      <th></th>\n",
       "      <th>preg</th>\n",
       "      <th>plas</th>\n",
       "      <th>pres</th>\n",
       "      <th>skin</th>\n",
       "      <th>insu</th>\n",
       "      <th>mass</th>\n",
       "      <th>pedi</th>\n",
       "      <th>age</th>\n",
       "      <th>label</th>\n",
       "    </tr>\n",
       "  </thead>\n",
       "  <tbody>\n",
       "    <tr>\n",
       "      <th>0</th>\n",
       "      <td>14</td>\n",
       "      <td>175</td>\n",
       "      <td>62</td>\n",
       "      <td>30</td>\n",
       "      <td>0</td>\n",
       "      <td>33.6</td>\n",
       "      <td>0.212</td>\n",
       "      <td>38</td>\n",
       "      <td>tested_positive</td>\n",
       "    </tr>\n",
       "    <tr>\n",
       "      <th>1</th>\n",
       "      <td>4</td>\n",
       "      <td>146</td>\n",
       "      <td>78</td>\n",
       "      <td>0</td>\n",
       "      <td>0</td>\n",
       "      <td>38.5</td>\n",
       "      <td>0.520</td>\n",
       "      <td>67</td>\n",
       "      <td>tested_positive</td>\n",
       "    </tr>\n",
       "    <tr>\n",
       "      <th>2</th>\n",
       "      <td>15</td>\n",
       "      <td>136</td>\n",
       "      <td>70</td>\n",
       "      <td>32</td>\n",
       "      <td>110</td>\n",
       "      <td>37.1</td>\n",
       "      <td>0.153</td>\n",
       "      <td>43</td>\n",
       "      <td>tested_positive</td>\n",
       "    </tr>\n",
       "    <tr>\n",
       "      <th>3</th>\n",
       "      <td>3</td>\n",
       "      <td>107</td>\n",
       "      <td>62</td>\n",
       "      <td>13</td>\n",
       "      <td>48</td>\n",
       "      <td>22.9</td>\n",
       "      <td>0.678</td>\n",
       "      <td>23</td>\n",
       "      <td>tested_positive</td>\n",
       "    </tr>\n",
       "    <tr>\n",
       "      <th>4</th>\n",
       "      <td>3</td>\n",
       "      <td>169</td>\n",
       "      <td>74</td>\n",
       "      <td>19</td>\n",
       "      <td>125</td>\n",
       "      <td>29.9</td>\n",
       "      <td>0.268</td>\n",
       "      <td>31</td>\n",
       "      <td>tested_positive</td>\n",
       "    </tr>\n",
       "  </tbody>\n",
       "</table>\n",
       "</div>"
      ],
      "text/plain": [
       "   preg  plas  pres  skin  insu  mass   pedi  age            label\n",
       "0    14   175    62    30     0  33.6  0.212   38  tested_positive\n",
       "1     4   146    78     0     0  38.5  0.520   67  tested_positive\n",
       "2    15   136    70    32   110  37.1  0.153   43  tested_positive\n",
       "3     3   107    62    13    48  22.9  0.678   23  tested_positive\n",
       "4     3   169    74    19   125  29.9  0.268   31  tested_positive"
      ]
     },
     "execution_count": 6,
     "metadata": {},
     "output_type": "execute_result"
    }
   ],
   "source": [
    "# Se comprueba que se han cargado bien los datos de Pima\n",
    "dfs['pima'].head(5)"
   ]
  },
  {
   "cell_type": "code",
   "execution_count": 7,
   "metadata": {},
   "outputs": [
    {
     "data": {
      "text/html": [
       "<div>\n",
       "<style>\n",
       "    .dataframe thead tr:only-child th {\n",
       "        text-align: right;\n",
       "    }\n",
       "\n",
       "    .dataframe thead th {\n",
       "        text-align: left;\n",
       "    }\n",
       "\n",
       "    .dataframe tbody tr th {\n",
       "        vertical-align: top;\n",
       "    }\n",
       "</style>\n",
       "<table border=\"1\" class=\"dataframe\">\n",
       "  <thead>\n",
       "    <tr style=\"text-align: right;\">\n",
       "      <th></th>\n",
       "      <th>patientId</th>\n",
       "      <th>clumpThickness</th>\n",
       "      <th>cellSize</th>\n",
       "      <th>CellShape</th>\n",
       "      <th>marginalAdhesion</th>\n",
       "      <th>epithelialSize</th>\n",
       "      <th>bareNuclei</th>\n",
       "      <th>blandChromatin</th>\n",
       "      <th>normalNucleoli</th>\n",
       "      <th>mitoses</th>\n",
       "      <th>label</th>\n",
       "    </tr>\n",
       "  </thead>\n",
       "  <tbody>\n",
       "    <tr>\n",
       "      <th>0</th>\n",
       "      <td>1</td>\n",
       "      <td>5</td>\n",
       "      <td>1</td>\n",
       "      <td>1</td>\n",
       "      <td>1</td>\n",
       "      <td>2</td>\n",
       "      <td>1.0</td>\n",
       "      <td>3</td>\n",
       "      <td>1</td>\n",
       "      <td>1</td>\n",
       "      <td>benign</td>\n",
       "    </tr>\n",
       "    <tr>\n",
       "      <th>1</th>\n",
       "      <td>2</td>\n",
       "      <td>5</td>\n",
       "      <td>4</td>\n",
       "      <td>4</td>\n",
       "      <td>5</td>\n",
       "      <td>7</td>\n",
       "      <td>10.0</td>\n",
       "      <td>3</td>\n",
       "      <td>2</td>\n",
       "      <td>1</td>\n",
       "      <td>benign</td>\n",
       "    </tr>\n",
       "    <tr>\n",
       "      <th>2</th>\n",
       "      <td>3</td>\n",
       "      <td>3</td>\n",
       "      <td>1</td>\n",
       "      <td>1</td>\n",
       "      <td>1</td>\n",
       "      <td>2</td>\n",
       "      <td>2.0</td>\n",
       "      <td>3</td>\n",
       "      <td>1</td>\n",
       "      <td>1</td>\n",
       "      <td>benign</td>\n",
       "    </tr>\n",
       "    <tr>\n",
       "      <th>3</th>\n",
       "      <td>4</td>\n",
       "      <td>6</td>\n",
       "      <td>8</td>\n",
       "      <td>8</td>\n",
       "      <td>1</td>\n",
       "      <td>3</td>\n",
       "      <td>4.0</td>\n",
       "      <td>3</td>\n",
       "      <td>7</td>\n",
       "      <td>1</td>\n",
       "      <td>benign</td>\n",
       "    </tr>\n",
       "    <tr>\n",
       "      <th>4</th>\n",
       "      <td>5</td>\n",
       "      <td>4</td>\n",
       "      <td>1</td>\n",
       "      <td>1</td>\n",
       "      <td>3</td>\n",
       "      <td>2</td>\n",
       "      <td>1.0</td>\n",
       "      <td>3</td>\n",
       "      <td>1</td>\n",
       "      <td>1</td>\n",
       "      <td>benign</td>\n",
       "    </tr>\n",
       "  </tbody>\n",
       "</table>\n",
       "</div>"
      ],
      "text/plain": [
       "   patientId  clumpThickness  cellSize  CellShape  marginalAdhesion  \\\n",
       "0          1               5         1          1                 1   \n",
       "1          2               5         4          4                 5   \n",
       "2          3               3         1          1                 1   \n",
       "3          4               6         8          8                 1   \n",
       "4          5               4         1          1                 3   \n",
       "\n",
       "   epithelialSize  bareNuclei  blandChromatin  normalNucleoli  mitoses   label  \n",
       "0               2         1.0               3               1        1  benign  \n",
       "1               7        10.0               3               2        1  benign  \n",
       "2               2         2.0               3               1        1  benign  \n",
       "3               3         4.0               3               7        1  benign  \n",
       "4               2         1.0               3               1        1  benign  "
      ]
     },
     "execution_count": 7,
     "metadata": {},
     "output_type": "execute_result"
    }
   ],
   "source": [
    "# Se comprueba que se han cargado bien los datos de Wisconsin\n",
    "dfs['wisconsin'].head(5)"
   ]
  },
  {
   "cell_type": "markdown",
   "metadata": {},
   "source": [
    "** Se ha utilizado la función head para comprobar que los datos mostrados se corresponden con los 5 primeros casos. Así se puede ver a simple vista que se han cargado adecuadamente. **\n",
    "\n",
    "**A continuación se utiliza la función sample para obtener muestras no sesgadas**"
   ]
  },
  {
   "cell_type": "code",
   "execution_count": 8,
   "metadata": {},
   "outputs": [
    {
     "data": {
      "text/html": [
       "<div>\n",
       "<style>\n",
       "    .dataframe thead tr:only-child th {\n",
       "        text-align: right;\n",
       "    }\n",
       "\n",
       "    .dataframe thead th {\n",
       "        text-align: left;\n",
       "    }\n",
       "\n",
       "    .dataframe tbody tr th {\n",
       "        vertical-align: top;\n",
       "    }\n",
       "</style>\n",
       "<table border=\"1\" class=\"dataframe\">\n",
       "  <thead>\n",
       "    <tr style=\"text-align: right;\">\n",
       "      <th></th>\n",
       "      <th>preg</th>\n",
       "      <th>plas</th>\n",
       "      <th>pres</th>\n",
       "      <th>skin</th>\n",
       "      <th>insu</th>\n",
       "      <th>mass</th>\n",
       "      <th>pedi</th>\n",
       "      <th>age</th>\n",
       "      <th>label</th>\n",
       "    </tr>\n",
       "  </thead>\n",
       "  <tbody>\n",
       "    <tr>\n",
       "      <th>276</th>\n",
       "      <td>0</td>\n",
       "      <td>126</td>\n",
       "      <td>84</td>\n",
       "      <td>29</td>\n",
       "      <td>215</td>\n",
       "      <td>30.7</td>\n",
       "      <td>0.520</td>\n",
       "      <td>24</td>\n",
       "      <td>tested_negative</td>\n",
       "    </tr>\n",
       "    <tr>\n",
       "      <th>179</th>\n",
       "      <td>2</td>\n",
       "      <td>105</td>\n",
       "      <td>80</td>\n",
       "      <td>45</td>\n",
       "      <td>191</td>\n",
       "      <td>33.7</td>\n",
       "      <td>0.711</td>\n",
       "      <td>29</td>\n",
       "      <td>tested_positive</td>\n",
       "    </tr>\n",
       "    <tr>\n",
       "      <th>755</th>\n",
       "      <td>1</td>\n",
       "      <td>103</td>\n",
       "      <td>80</td>\n",
       "      <td>11</td>\n",
       "      <td>82</td>\n",
       "      <td>19.4</td>\n",
       "      <td>0.491</td>\n",
       "      <td>22</td>\n",
       "      <td>tested_negative</td>\n",
       "    </tr>\n",
       "    <tr>\n",
       "      <th>762</th>\n",
       "      <td>6</td>\n",
       "      <td>92</td>\n",
       "      <td>92</td>\n",
       "      <td>0</td>\n",
       "      <td>0</td>\n",
       "      <td>19.9</td>\n",
       "      <td>0.188</td>\n",
       "      <td>28</td>\n",
       "      <td>tested_negative</td>\n",
       "    </tr>\n",
       "    <tr>\n",
       "      <th>419</th>\n",
       "      <td>2</td>\n",
       "      <td>112</td>\n",
       "      <td>66</td>\n",
       "      <td>22</td>\n",
       "      <td>0</td>\n",
       "      <td>25.0</td>\n",
       "      <td>0.307</td>\n",
       "      <td>24</td>\n",
       "      <td>tested_negative</td>\n",
       "    </tr>\n",
       "    <tr>\n",
       "      <th>34</th>\n",
       "      <td>0</td>\n",
       "      <td>84</td>\n",
       "      <td>64</td>\n",
       "      <td>22</td>\n",
       "      <td>66</td>\n",
       "      <td>35.8</td>\n",
       "      <td>0.545</td>\n",
       "      <td>21</td>\n",
       "      <td>tested_negative</td>\n",
       "    </tr>\n",
       "    <tr>\n",
       "      <th>722</th>\n",
       "      <td>1</td>\n",
       "      <td>88</td>\n",
       "      <td>78</td>\n",
       "      <td>29</td>\n",
       "      <td>76</td>\n",
       "      <td>32.0</td>\n",
       "      <td>0.365</td>\n",
       "      <td>29</td>\n",
       "      <td>tested_negative</td>\n",
       "    </tr>\n",
       "    <tr>\n",
       "      <th>99</th>\n",
       "      <td>3</td>\n",
       "      <td>193</td>\n",
       "      <td>70</td>\n",
       "      <td>31</td>\n",
       "      <td>0</td>\n",
       "      <td>34.9</td>\n",
       "      <td>0.241</td>\n",
       "      <td>25</td>\n",
       "      <td>tested_positive</td>\n",
       "    </tr>\n",
       "  </tbody>\n",
       "</table>\n",
       "</div>"
      ],
      "text/plain": [
       "     preg  plas  pres  skin  insu  mass   pedi  age            label\n",
       "276     0   126    84    29   215  30.7  0.520   24  tested_negative\n",
       "179     2   105    80    45   191  33.7  0.711   29  tested_positive\n",
       "755     1   103    80    11    82  19.4  0.491   22  tested_negative\n",
       "762     6    92    92     0     0  19.9  0.188   28  tested_negative\n",
       "419     2   112    66    22     0  25.0  0.307   24  tested_negative\n",
       "34      0    84    64    22    66  35.8  0.545   21  tested_negative\n",
       "722     1    88    78    29    76  32.0  0.365   29  tested_negative\n",
       "99      3   193    70    31     0  34.9  0.241   25  tested_positive"
      ]
     },
     "execution_count": 8,
     "metadata": {},
     "output_type": "execute_result"
    }
   ],
   "source": [
    "# Muestra aleatoria de Pima\n",
    "np.random.seed(seed)\n",
    "dfs['pima'].sample(8)"
   ]
  },
  {
   "cell_type": "code",
   "execution_count": 9,
   "metadata": {},
   "outputs": [
    {
     "data": {
      "text/html": [
       "<div>\n",
       "<style>\n",
       "    .dataframe thead tr:only-child th {\n",
       "        text-align: right;\n",
       "    }\n",
       "\n",
       "    .dataframe thead th {\n",
       "        text-align: left;\n",
       "    }\n",
       "\n",
       "    .dataframe tbody tr th {\n",
       "        vertical-align: top;\n",
       "    }\n",
       "</style>\n",
       "<table border=\"1\" class=\"dataframe\">\n",
       "  <thead>\n",
       "    <tr style=\"text-align: right;\">\n",
       "      <th></th>\n",
       "      <th>patientId</th>\n",
       "      <th>clumpThickness</th>\n",
       "      <th>cellSize</th>\n",
       "      <th>CellShape</th>\n",
       "      <th>marginalAdhesion</th>\n",
       "      <th>epithelialSize</th>\n",
       "      <th>bareNuclei</th>\n",
       "      <th>blandChromatin</th>\n",
       "      <th>normalNucleoli</th>\n",
       "      <th>mitoses</th>\n",
       "      <th>label</th>\n",
       "    </tr>\n",
       "  </thead>\n",
       "  <tbody>\n",
       "    <tr>\n",
       "      <th>533</th>\n",
       "      <td>534</td>\n",
       "      <td>5</td>\n",
       "      <td>1</td>\n",
       "      <td>1</td>\n",
       "      <td>1</td>\n",
       "      <td>2</td>\n",
       "      <td>1.0</td>\n",
       "      <td>1</td>\n",
       "      <td>1</td>\n",
       "      <td>1</td>\n",
       "      <td>benign</td>\n",
       "    </tr>\n",
       "    <tr>\n",
       "      <th>42</th>\n",
       "      <td>43</td>\n",
       "      <td>1</td>\n",
       "      <td>1</td>\n",
       "      <td>1</td>\n",
       "      <td>1</td>\n",
       "      <td>2</td>\n",
       "      <td>1.0</td>\n",
       "      <td>2</td>\n",
       "      <td>1</td>\n",
       "      <td>2</td>\n",
       "      <td>benign</td>\n",
       "    </tr>\n",
       "    <tr>\n",
       "      <th>393</th>\n",
       "      <td>394</td>\n",
       "      <td>10</td>\n",
       "      <td>10</td>\n",
       "      <td>10</td>\n",
       "      <td>1</td>\n",
       "      <td>6</td>\n",
       "      <td>1.0</td>\n",
       "      <td>2</td>\n",
       "      <td>8</td>\n",
       "      <td>1</td>\n",
       "      <td>malignant</td>\n",
       "    </tr>\n",
       "    <tr>\n",
       "      <th>77</th>\n",
       "      <td>78</td>\n",
       "      <td>3</td>\n",
       "      <td>1</td>\n",
       "      <td>1</td>\n",
       "      <td>1</td>\n",
       "      <td>2</td>\n",
       "      <td>2.0</td>\n",
       "      <td>7</td>\n",
       "      <td>1</td>\n",
       "      <td>1</td>\n",
       "      <td>benign</td>\n",
       "    </tr>\n",
       "    <tr>\n",
       "      <th>552</th>\n",
       "      <td>553</td>\n",
       "      <td>5</td>\n",
       "      <td>1</td>\n",
       "      <td>1</td>\n",
       "      <td>1</td>\n",
       "      <td>2</td>\n",
       "      <td>1.0</td>\n",
       "      <td>1</td>\n",
       "      <td>1</td>\n",
       "      <td>1</td>\n",
       "      <td>benign</td>\n",
       "    </tr>\n",
       "    <tr>\n",
       "      <th>277</th>\n",
       "      <td>278</td>\n",
       "      <td>1</td>\n",
       "      <td>1</td>\n",
       "      <td>1</td>\n",
       "      <td>1</td>\n",
       "      <td>2</td>\n",
       "      <td>1.0</td>\n",
       "      <td>3</td>\n",
       "      <td>1</td>\n",
       "      <td>1</td>\n",
       "      <td>benign</td>\n",
       "    </tr>\n",
       "    <tr>\n",
       "      <th>73</th>\n",
       "      <td>74</td>\n",
       "      <td>3</td>\n",
       "      <td>1</td>\n",
       "      <td>1</td>\n",
       "      <td>1</td>\n",
       "      <td>2</td>\n",
       "      <td>3.0</td>\n",
       "      <td>3</td>\n",
       "      <td>1</td>\n",
       "      <td>1</td>\n",
       "      <td>benign</td>\n",
       "    </tr>\n",
       "    <tr>\n",
       "      <th>516</th>\n",
       "      <td>517</td>\n",
       "      <td>8</td>\n",
       "      <td>4</td>\n",
       "      <td>4</td>\n",
       "      <td>1</td>\n",
       "      <td>6</td>\n",
       "      <td>10.0</td>\n",
       "      <td>2</td>\n",
       "      <td>5</td>\n",
       "      <td>2</td>\n",
       "      <td>malignant</td>\n",
       "    </tr>\n",
       "  </tbody>\n",
       "</table>\n",
       "</div>"
      ],
      "text/plain": [
       "     patientId  clumpThickness  cellSize  CellShape  marginalAdhesion  \\\n",
       "533        534               5         1          1                 1   \n",
       "42          43               1         1          1                 1   \n",
       "393        394              10        10         10                 1   \n",
       "77          78               3         1          1                 1   \n",
       "552        553               5         1          1                 1   \n",
       "277        278               1         1          1                 1   \n",
       "73          74               3         1          1                 1   \n",
       "516        517               8         4          4                 1   \n",
       "\n",
       "     epithelialSize  bareNuclei  blandChromatin  normalNucleoli  mitoses  \\\n",
       "533               2         1.0               1               1        1   \n",
       "42                2         1.0               2               1        2   \n",
       "393               6         1.0               2               8        1   \n",
       "77                2         2.0               7               1        1   \n",
       "552               2         1.0               1               1        1   \n",
       "277               2         1.0               3               1        1   \n",
       "73                2         3.0               3               1        1   \n",
       "516               6        10.0               2               5        2   \n",
       "\n",
       "         label  \n",
       "533     benign  \n",
       "42      benign  \n",
       "393  malignant  \n",
       "77      benign  \n",
       "552     benign  \n",
       "277     benign  \n",
       "73      benign  \n",
       "516  malignant  "
      ]
     },
     "execution_count": 9,
     "metadata": {},
     "output_type": "execute_result"
    }
   ],
   "source": [
    "# Muestra aleatoria de Wisconsin\n",
    "np.random.seed(seed)\n",
    "dfs['wisconsin'].sample(8)"
   ]
  },
  {
   "cell_type": "markdown",
   "metadata": {},
   "source": [
    "# 1. Dataframe Pima_diabetes\n",
    "## 1.1 Análisis exploratorio mediante gráficas y estadísticos."
   ]
  },
  {
   "cell_type": "markdown",
   "metadata": {},
   "source": [
    "Para trabajar con un conjunto de datos es importante conocerlo previamente.\n",
    "\n",
    "Por ello se procede con la elaboración de gráficas.\n"
   ]
  },
  {
   "cell_type": "code",
   "execution_count": 10,
   "metadata": {},
   "outputs": [],
   "source": [
    "# Funcion que genera histogramas dado un dataframe\n",
    "def gMultipleHistogram(targetdf):\n",
    "    # Primero se elimina la variable clase\n",
    "    target_noclass = targetdf.drop('label', 1)\n",
    "    # Ahora se generan los histogramas\n",
    "    g = sns.FacetGrid(pd.melt(target_noclass), col=\"variable\", sharey=False, sharex=False, col_wrap=2)\n",
    "    g.map(sns.distplot, \"value\");   "
   ]
  },
  {
   "cell_type": "markdown",
   "metadata": {},
   "source": [
    "Se imprimen los histogramas correspondientes con Pima"
   ]
  },
  {
   "cell_type": "code",
   "execution_count": 11,
   "metadata": {},
   "outputs": [
    {
     "data": {
      "image/png": "[encoded data removed]",
      "text/plain": [
       "<matplotlib.figure.Figure at 0x7f5b60521e48>"
      ]
     },
     "metadata": {},
     "output_type": "display_data"
    }
   ],
   "source": [
    "gMultipleHistogram(dfs['pima'])"
   ]
  },
  {
   "cell_type": "markdown",
   "metadata": {},
   "source": [
    "Las variables se corresponden con:\n",
    "1. preg = Numero de embarazos.\n",
    "2. plas = Concentración de glucosa en plasma tras un test.\n",
    "3. pres = Tension diastólica (mm Hg).\n",
    "4. skin = Grosor del pliegue de la piel del triceps (mm).\n",
    "5. insu = Insulina sérica en 2 horas (mu U/ml).\n",
    "6. mass = Índice de masa corporal (kg/m^2).\n",
    "7. pedi = Funcion de predisposicion genetica a la diabetes.\n",
    "8. age = Edad (años).\n",
    "9. label = Variable categórica (tested_positive o tested_negative).\n",
    "\n",
    "· Los valores perdidos parecen estar codificados como 0 para las variables en las que un 0 no tiene sentido, como plas, pres, skin, insu y mass.\n",
    "\n",
    "· Las variables preg y age siguen una distribución Poisson.\n",
    "\n",
    "· El resto de las variables siguen una distribución normal."
   ]
  },
  {
   "cell_type": "markdown",
   "metadata": {},
   "source": [
    "_________-"
   ]
  },
  {
   "cell_type": "markdown",
   "metadata": {},
   "source": [
    "    Se procede a mostrar la relación entre las variables y la variable clase."
   ]
  },
  {
   "cell_type": "code",
   "execution_count": 12,
   "metadata": {
    "scrolled": true
   },
   "outputs": [],
   "source": [
    "def gSingleBoxplot(targetdf, att):\n",
    "    sns.boxplot(x='label', y=att, data=targetdf)\n",
    "\n",
    "def drawClassRelation(df, label='label'):\n",
    "    glist = []\n",
    "    for variable in df.columns.values:\n",
    "        if (variable != label):\n",
    "            gSingleBoxplot(df, variable)\n",
    "            plt.show()\n",
    "            \n",
    "def gSingleBarplot(targetdf, att):\n",
    "    sns.countplot(targetdf[att])"
   ]
  },
  {
   "cell_type": "markdown",
   "metadata": {},
   "source": [
    "***Utilizamos diagramas de cajas y bigotes para representar los datos, ya que muestra de forma clara como se han distribuido los datos, así como los outliers.***\n"
   ]
  },
  {
   "cell_type": "code",
   "execution_count": 13,
   "metadata": {},
   "outputs": [
    {
     "data": {
      "image/png": "[encoded data removed]",
      "text/plain": [
       "<matplotlib.figure.Figure at 0x7f5b61291e80>"
      ]
     },
     "metadata": {},
     "output_type": "display_data"
    },
    {
     "data": {
      "image/png": "[encoded data removed]",
      "text/plain": [
       "<matplotlib.figure.Figure at 0x7f5b5dea8fd0>"
      ]
     },
     "metadata": {},
     "output_type": "display_data"
    },
    {
     "data": {
      "image/png": "[encoded data removed]",
      "text/plain": [
       "<matplotlib.figure.Figure at 0x7f5b5e2267f0>"
      ]
     },
     "metadata": {},
     "output_type": "display_data"
    },
    {
     "data": {
      "image/png": "[encoded data removed]",
      "text/plain": [
       "<matplotlib.figure.Figure at 0x7f5b5df86128>"
      ]
     },
     "metadata": {},
     "output_type": "display_data"
    },
    {
     "data": {
      "image/png": "[encoded data removed]",
      "text/plain": [
       "<matplotlib.figure.Figure at 0x7f5b5dcaa080>"
      ]
     },
     "metadata": {},
     "output_type": "display_data"
    },
    {
     "data": {
      "image/png": "[encoded data removed]",
      "text/plain": [
       "<matplotlib.figure.Figure at 0x7f5b5defd470>"
      ]
     },
     "metadata": {},
     "output_type": "display_data"
    },
    {
     "data": {
      "image/png": "[encoded data removed]",
      "text/plain": [
       "<matplotlib.figure.Figure at 0x7f5b5dd70208>"
      ]
     },
     "metadata": {},
     "output_type": "display_data"
    },
    {
     "data": {
      "image/png": "[encoded data removed]",
      "text/plain": [
       "<matplotlib.figure.Figure at 0x7f5b5dfd6da0>"
      ]
     },
     "metadata": {},
     "output_type": "display_data"
    }
   ],
   "source": [
    "drawClassRelation(dfs['pima'])"
   ]
  },
  {
   "cell_type": "markdown",
   "metadata": {},
   "source": [
    "En función de las variables se puede contemplar:\n",
    "\n",
    "   · preg: existe cierta disposición a la diabetes cuando se pasa por un embarazo.\n",
    "\n",
    "   · plas: una elevada concentración de glucosa en sangre muestra una probabilidad alta de que se pueda padecer diabetes.\n",
    "    \n",
    "   · pres: la presión sanguínea no tiene demasiada relevancia.\n",
    "    \n",
    "   · skin: el grosor de la piel no tiene relevancia.\n",
    "   \n",
    "   · insu: la mediana indica que niveles bajos de insulina suelen corresponderse con un resultado positivo de diabetes. Esto no se corresponde con el hecho de que la diabetes más común (tipo II) provoca valores elevados. Parece lógico que este efecto se produce debido a la sustitución de los valores perdidos por 0.\n",
    "    \n",
    "   · mass: es poco relevante, aunque se puede observar que en los casos clasificados como positivos hay cierta predisposición a tener un mayor índice de masa corporal.\n",
    "    \n",
    "   · pedi: por la posición de los cuartiles, así como el máximo, se puede contemplar que existe cierta predisposición genética a padecer diabétes.\n",
    "    \n",
    "   · age: se puede observar que es más habitual clasificar como negativo aquellos casos en los que la edad sea baja.\n",
    "\n",
    "Las variables que más parece que puedan ayudar a clasificar son preg y plas, y dado que plas tiene valores perdidos codificados como cero, es probable que si se tratan de alguna forma ayude a clasificar más."
   ]
  },
  {
   "cell_type": "markdown",
   "metadata": {},
   "source": [
    "_______________________________________\n",
    "**¿La variable clase está balanceada?**\n",
    "\n",
    "Como se puede contemplar en el siguiente diagrama de barras hay más casos clasificados como tested_negative que tested_positive. Por ello no está balanceada."
   ]
  },
  {
   "cell_type": "code",
   "execution_count": 14,
   "metadata": {},
   "outputs": [
    {
     "data": {
      "image/png": "[encoded data removed]",
      "text/plain": [
       "<matplotlib.figure.Figure at 0x7f5b5de7b1d0>"
      ]
     },
     "metadata": {},
     "output_type": "display_data"
    }
   ],
   "source": [
    "gSingleBarplot(dfs['pima'],\"label\")"
   ]
  },
  {
   "cell_type": "markdown",
   "metadata": {},
   "source": [
    "_______\n",
    "## 1.2. Aprendizaje y evaluación de un clasificador zeroR.\n",
    "Lo primero que realizaremos será el tratamiento de datos para eliminar los valores perdidos."
   ]
  },
  {
   "cell_type": "code",
   "execution_count": 15,
   "metadata": {},
   "outputs": [],
   "source": [
    "dfPima = dfs['pima'].copy(deep=True) #guardamos el dataframe para poder compararlo sin preprocesamiento\n",
    "\n",
    "# Reemplazo de los valores 0, que hemos identificado como perdidos, por NaN.\n",
    "dfs['pima']['plas'] = dfs['pima']['plas'].replace(0, np.nan)\n",
    "dfs['pima']['pres'] = dfs['pima']['pres'].replace(0, np.nan)\n",
    "dfs['pima']['skin'] = dfs['pima']['skin'].replace(0, np.nan)\n",
    "dfs['pima']['insu'] = dfs['pima']['insu'].replace(0, np.nan)\n",
    "dfs['pima']['mass'] = dfs['pima']['mass'].replace(0, np.nan)"
   ]
  },
  {
   "cell_type": "markdown",
   "metadata": {},
   "source": [
    "Para poder realizar un correcto proceso de aprendizaje y evaluación, es conveniente usar algún método como holdout balanceado. Es conveniente hacerlo balanceado sobre todo en casos en los que las variables no son balanceadas.\n",
    "\n",
    "Para hacerlo, se define la siguiente función que nos devuelve a partir de un DataFrame, la base de datos de entrenamiento y la de test."
   ]
  },
  {
   "cell_type": "code",
   "execution_count": 16,
   "metadata": {},
   "outputs": [],
   "source": [
    "from sklearn.model_selection import train_test_split\n",
    "def balHoldout(df, label, seed, tSize = 0.4):\n",
    "    attributesdf = df.drop(label, 1)\n",
    "    labeldf = df[label]\n",
    "    train_atts, test_atts, train_label, test_label = train_test_split( \n",
    "        attributesdf, # Dataset con los atributos\n",
    "        labeldf, # Vector/dataset con la clase\n",
    "        test_size = tSize, # Proporcion de test\n",
    "        random_state = seed, # Semilla\n",
    "        stratify = labeldf) # Variable a estratificar\n",
    "    return (train_atts.assign(label = train_label), test_atts.assign(label = test_label))"
   ]
  },
  {
   "cell_type": "markdown",
   "metadata": {},
   "source": [
    "Ahora se definen las funciones para entrenar el clasificador zeroR y para evaluar un clasificador."
   ]
  },
  {
   "cell_type": "code",
   "execution_count": 17,
   "metadata": {},
   "outputs": [],
   "source": [
    "def trainZeroR(trainingData):\n",
    "    # We first learn the parameters, aka, the most probable class\n",
    "    # Tip! get the class variable mode and take the first value\n",
    "    majorClass = trainingData.label.mode()[0]\n",
    "    \n",
    "    # Now we create and return the classifier function\n",
    "    def classifier( data ):\n",
    "        return data.assign( prediction = majorClass )\n",
    "    \n",
    "    return classifier\n",
    "\n",
    "# The star notated argument are cale varargs, and can be passed to inner functions\n",
    "def trainAndEvalClassifier(classifier, trainingDf, testDf, **kwargs):\n",
    "    model = classifier(trainingDf, **kwargs)\n",
    "    predictedDf = model(testDf)\n",
    "    tab = pd.crosstab(predictedDf['label'], predictedDf['prediction'])\n",
    "    comparison = predictedDf[predictedDf['label'] == predictedDf['prediction'] ]\n",
    "    accuracy = len(comparison) / len(predictedDf)\n",
    "    return (tab, accuracy)"
   ]
  },
  {
   "cell_type": "markdown",
   "metadata": {},
   "source": [
    "Ya podemos proceder a realizar el proceso de Holdout balanceado y a sustituir los valores perdidos por la media."
   ]
  },
  {
   "cell_type": "code",
   "execution_count": 18,
   "metadata": {},
   "outputs": [],
   "source": [
    "(train_pima, test_pima) = balHoldout(dfs['pima'], 'label', seed)\n",
    "meansValues = train_pima.mean()\n",
    "train_pima = train_pima.fillna( meansValues )\n",
    "test_pima = test_pima.fillna( meansValues )"
   ]
  },
  {
   "cell_type": "markdown",
   "metadata": {},
   "source": [
    "A continuación, se procede con la evaluación de los datos de Pima. Almacenaremos la matriz de confusión para realizar la comparación con otros algoritmos posteriormente."
   ]
  },
  {
   "cell_type": "code",
   "execution_count": 19,
   "metadata": {},
   "outputs": [
    {
     "name": "stdout",
     "output_type": "stream",
     "text": [
      "Accuracy:  0.6525974025974026\n"
     ]
    },
    {
     "data": {
      "text/html": [
       "<div>\n",
       "<style>\n",
       "    .dataframe thead tr:only-child th {\n",
       "        text-align: right;\n",
       "    }\n",
       "\n",
       "    .dataframe thead th {\n",
       "        text-align: left;\n",
       "    }\n",
       "\n",
       "    .dataframe tbody tr th {\n",
       "        vertical-align: top;\n",
       "    }\n",
       "</style>\n",
       "<table border=\"1\" class=\"dataframe\">\n",
       "  <thead>\n",
       "    <tr style=\"text-align: right;\">\n",
       "      <th>prediction</th>\n",
       "      <th>tested_negative</th>\n",
       "    </tr>\n",
       "    <tr>\n",
       "      <th>label</th>\n",
       "      <th></th>\n",
       "    </tr>\n",
       "  </thead>\n",
       "  <tbody>\n",
       "    <tr>\n",
       "      <th>tested_negative</th>\n",
       "      <td>201</td>\n",
       "    </tr>\n",
       "    <tr>\n",
       "      <th>tested_positive</th>\n",
       "      <td>107</td>\n",
       "    </tr>\n",
       "  </tbody>\n",
       "</table>\n",
       "</div>"
      ],
      "text/plain": [
       "prediction       tested_negative\n",
       "label                           \n",
       "tested_negative              201\n",
       "tested_positive              107"
      ]
     },
     "execution_count": 19,
     "metadata": {},
     "output_type": "execute_result"
    }
   ],
   "source": [
    "pimatabs = {}\n",
    "(pimatabs['zeroR'], pimaaccuracy) = trainAndEvalClassifier(trainZeroR, train_pima, test_pima)\n",
    "print (\"Accuracy: \",pimaaccuracy)\n",
    "pimatabs['zeroR']"
   ]
  },
  {
   "cell_type": "markdown",
   "metadata": {},
   "source": [
    "Dado que la semántica del problema parece indicar que lo más interesante es detectar los positivos y en este caso zeroR clasifica todo como negativo, es un mal algoritmo.\n",
    "\n",
    "Se puede calcular un amplio abanico de ratios que nos permiten evaluar un clasificador con más objetividad. Definimos una función que a partir de una matriz de confusión calcula varios de estos valores.\n",
    "\n",
    "Dado que tomar el accuracy por referencia no es un buen método para clasificar como bueno o malo el modelo se procede a realizar un análisis **ROC (Receiver Operating Characteristics)** a partir de la matriz de confusión."
   ]
  },
  {
   "cell_type": "code",
   "execution_count": 20,
   "metadata": {},
   "outputs": [],
   "source": [
    "# Función que calcula diversos datos a partir de la matriz de confusión\n",
    "def calculateRates(cMatrix, posLabel, negLabel): # posLabel es la etiqueta considerada como positivos, al revés para negLabel\n",
    "    stats = {}\n",
    "    try:\n",
    "        tp = cMatrix[posLabel][posLabel]\n",
    "    except KeyError:\n",
    "        tp = 0.0\n",
    "    try:\n",
    "        fp = cMatrix[posLabel][negLabel]\n",
    "    except KeyError:\n",
    "        fp = 0.0\n",
    "    try:\n",
    "        tn = cMatrix[negLabel][negLabel]\n",
    "    except KeyError:\n",
    "        tn = 0.0\n",
    "    try:\n",
    "        fn = cMatrix[negLabel][posLabel]\n",
    "    except KeyError:\n",
    "        fn = 0.0\n",
    "    \n",
    "    p = tp+fn\n",
    "    n = tn+fp\n",
    "    \n",
    "    stats['p'] = p\n",
    "    stats['n'] = n\n",
    "    stats['tp'] = tp\n",
    "    stats['tn'] = tn\n",
    "    stats['fp'] = fp\n",
    "    stats['fn'] = fn\n",
    "    \n",
    "    stats['tpr'] = tp/p\n",
    "    stats['fpr'] = fp/n\n",
    "    stats['tnr'] = tn/n\n",
    "    stats['fnr'] = fn/p\n",
    "    \n",
    "    stats['accuracy'] = (tp+tn)/(p+n)\n",
    "    try:\n",
    "        stats['ppv'] = tp/(tp+fp)\n",
    "    except ZeroDivisionError:\n",
    "        stats['ppv'] = 0.0\n",
    "    if (stats['ppv'] != 0 and stats['tpr'] != 0):\n",
    "        stats['f1'] = (2*stats['tpr']*stats['ppv'])/(stats['ppv']+stats['tpr'])\n",
    "    else:\n",
    "        stats['f1'] = 0.0\n",
    "        \n",
    "    stats['mm'] = (stats['tpr']+stats['tnr'])/2\n",
    "    \n",
    "    return stats"
   ]
  },
  {
   "cell_type": "markdown",
   "metadata": {},
   "source": [
    "El **recall/sensitivity/tpr** nos da una buena medida de lo bueno que es un algoritmo en el que lo importante es detectar los positivos. \n",
    "\n",
    "La **precisión/ppv** también es importante, ya que mide de los clasificados como positivos, cuáles lo son realmente. \n",
    "\n",
    "A partir de ambos valores se da el **F1 Score**, que trata de mostrar el balance entre ambas tasas."
   ]
  },
  {
   "cell_type": "code",
   "execution_count": 21,
   "metadata": {},
   "outputs": [
    {
     "name": "stdout",
     "output_type": "stream",
     "text": [
      "Recall:  0.0\n",
      "Precision:  0.0\n",
      "F1 Score:  0.0\n"
     ]
    }
   ],
   "source": [
    "rates = {}\n",
    "rates['pima'] = {}\n",
    "rates['pima']['zeroR'] = calculateRates(pimatabs['zeroR'], 'tested_positive', 'tested_negative')\n",
    "print ('Recall: ', rates['pima']['zeroR']['tpr'])\n",
    "print ('Precision: ', rates['pima']['zeroR']['ppv'])\n",
    "print ('F1 Score: ', rates['pima']['zeroR']['f1'])"
   ]
  },
  {
   "cell_type": "markdown",
   "metadata": {},
   "source": [
    "Como los tres valores son 0, este clasificador es malo para este problema."
   ]
  },
  {
   "cell_type": "markdown",
   "metadata": {},
   "source": [
    "Los resultados de este algoritmo se analizarán posteriormente para poder compararlo con el resto."
   ]
  },
  {
   "cell_type": "markdown",
   "metadata": {},
   "source": [
    "## 1.3. Aprendizaje y evaluación de un clasificador oneR.\n",
    "A continuación se define la función del clasificador oneR:"
   ]
  },
  {
   "cell_type": "code",
   "execution_count": 22,
   "metadata": {},
   "outputs": [],
   "source": [
    "# Outer learning function, hyperparameter nbins=1 is equivalent to zeroR if all attributes are continuous\n",
    "def trainOneR(trainingData, nbins = 1, debug = True):\n",
    "    # Debug: \n",
    "    if debug:\n",
    "        print(\"-----------------------------------\")\n",
    "        print(\"Training OneR\")\n",
    "        print(\"-----------------------------------\")\n",
    "        print(\"attribute\\terror\")\n",
    "    # ------------------------------------\n",
    "\n",
    "    # Loop maximization variables\n",
    "    best_attribute = ''\n",
    "    best_partitions = []\n",
    "    best_classes = []\n",
    "    best_error =  float(\"inf\")\n",
    "\n",
    "    # We discretize each attribute and compute its error\n",
    "    for att in trainingData.columns.values: \n",
    "        # We must ignore the class variable\n",
    "        if att == 'label': continue\n",
    "\n",
    "        # First we generate the partitions\n",
    "        (attribute, bins) = pd.cut(trainingData[att], bins=nbins, retbins=True)\n",
    "\n",
    "        # The we must compute the error\n",
    "        tab = pd.crosstab(attribute, trainingData['label'])\n",
    "        error = sum( [ sum(f) - max(f) for f in tab.values ] )\n",
    "\n",
    "        # We can show each variable individual error\n",
    "        if debug:\n",
    "            print(att, \"\\t\", error)\n",
    "        # ----------------------------------------\n",
    "        \n",
    "        # Lastly we compare if this attribute is better than the previous local optima\n",
    "        if (error < best_error):\n",
    "            # If that is the case we store it as the current local optima\n",
    "            best_attribute  = att\n",
    "            best_partitions = bins[1:-1]\n",
    "            # We must store the majority class for each interval in order to assign it\n",
    "            # during classification\n",
    "            best_classes = [ tab.columns[f.argmax()] for f in tab.values ]\n",
    "            best_error = error\n",
    "    # Now we generate the classifier function regarding the previous parameters\n",
    "    def classifier( testData ):\n",
    "        # It simply assigns the majority class for each interval\n",
    "        # For that we can use an auxiliar function to check which interval the current value\n",
    "        # for the optimal attribute belongs to and assign the stored majority class\n",
    "        def assignClass( attValue ):\n",
    "            for i in range(nbins):\n",
    "                if i != nbins - 1:\n",
    "                    if attValue <= best_partitions[i]:\n",
    "                        return best_classes[i]\n",
    "                else:\n",
    "                    if i - 1 >= 0:\n",
    "                        if attValue > best_partitions[i - 1]:\n",
    "                            return best_classes[i]\n",
    "\n",
    "        # Now we apply the previous function to all the instances in the dataset\n",
    "        # Remember that when using map in python3 we must cast the result as list\n",
    "        prediction = list(map( assignClass, testData[best_attribute] ))\n",
    "\n",
    "        return testData.assign( prediction = prediction )\n",
    "    \n",
    "    print(\"-----------------------------------\")\n",
    "    return classifier"
   ]
  },
  {
   "cell_type": "markdown",
   "metadata": {},
   "source": [
    "A continuación se evalúan los datos de Pima:"
   ]
  },
  {
   "cell_type": "code",
   "execution_count": 23,
   "metadata": {},
   "outputs": [
    {
     "name": "stdout",
     "output_type": "stream",
     "text": [
      "-----------------------------------\n",
      "Training OneR\n",
      "-----------------------------------\n",
      "attribute\terror\n",
      "preg \t 148\n",
      "plas \t 127\n",
      "pres \t 161\n",
      "skin \t 161\n",
      "insu \t 161\n",
      "mass \t 151\n",
      "pedi \t 161\n",
      "age \t 161\n",
      "-----------------------------------\n",
      "Accuracy:  0.7532467532467533\n"
     ]
    },
    {
     "data": {
      "text/html": [
       "<div>\n",
       "<style>\n",
       "    .dataframe thead tr:only-child th {\n",
       "        text-align: right;\n",
       "    }\n",
       "\n",
       "    .dataframe thead th {\n",
       "        text-align: left;\n",
       "    }\n",
       "\n",
       "    .dataframe tbody tr th {\n",
       "        vertical-align: top;\n",
       "    }\n",
       "</style>\n",
       "<table border=\"1\" class=\"dataframe\">\n",
       "  <thead>\n",
       "    <tr style=\"text-align: right;\">\n",
       "      <th>prediction</th>\n",
       "      <th>tested_negative</th>\n",
       "      <th>tested_positive</th>\n",
       "    </tr>\n",
       "    <tr>\n",
       "      <th>label</th>\n",
       "      <th></th>\n",
       "      <th></th>\n",
       "    </tr>\n",
       "  </thead>\n",
       "  <tbody>\n",
       "    <tr>\n",
       "      <th>tested_negative</th>\n",
       "      <td>159</td>\n",
       "      <td>42</td>\n",
       "    </tr>\n",
       "    <tr>\n",
       "      <th>tested_positive</th>\n",
       "      <td>34</td>\n",
       "      <td>73</td>\n",
       "    </tr>\n",
       "  </tbody>\n",
       "</table>\n",
       "</div>"
      ],
      "text/plain": [
       "prediction       tested_negative  tested_positive\n",
       "label                                            \n",
       "tested_negative              159               42\n",
       "tested_positive               34               73"
      ]
     },
     "execution_count": 23,
     "metadata": {},
     "output_type": "execute_result"
    }
   ],
   "source": [
    "(pimatabs['oneR'], pimaaccuracy) = trainAndEvalClassifier(trainOneR, train_pima, test_pima, nbins=len(dfs['pima'].label.unique()))\n",
    "print (\"Accuracy: \",pimaaccuracy)\n",
    "pimatabs['oneR']"
   ]
  },
  {
   "cell_type": "code",
   "execution_count": 24,
   "metadata": {},
   "outputs": [
    {
     "name": "stdout",
     "output_type": "stream",
     "text": [
      "Recall:  0.682242990654\n",
      "Precision:  0.634782608696\n",
      "F1 Score:  0.657657657658\n"
     ]
    }
   ],
   "source": [
    "rates['pima']['oneR'] = calculateRates(pimatabs['oneR'], 'tested_positive', 'tested_negative')\n",
    "print ('Recall: ', rates['pima']['oneR']['tpr'])\n",
    "print ('Precision: ', rates['pima']['oneR']['ppv'])\n",
    "print ('F1 Score: ', rates['pima']['oneR']['f1'])"
   ]
  },
  {
   "cell_type": "markdown",
   "metadata": {},
   "source": [
    "## 1.4. Aprendizaje y evaluación de un árbol de decisión."
   ]
  },
  {
   "cell_type": "markdown",
   "metadata": {},
   "source": [
    "El aprendizaje y evaluación de árboles de decisión ya viene implementado en la librería Scikit-learn. Sin embargo, es necesario crear otra función diferente a trainAndEvalClassifier ya que ésta no funciona con los métodos que proporciona la librería."
   ]
  },
  {
   "cell_type": "code",
   "execution_count": 25,
   "metadata": {},
   "outputs": [],
   "source": [
    "from sklearn import tree\n",
    "def trainAndEvalTree(trainDF, testDf, seed):\n",
    "    # Init the model (set hyperparameters)\n",
    "    model = tree.DecisionTreeClassifier(random_state=seed)\n",
    "    features = trainDF.drop('label',1)\n",
    "    labels = trainDF['label']\n",
    "    \n",
    "    # Use fit to learn from a configured model\n",
    "    classifier = model.fit(features, labels)\n",
    "    \n",
    "    testFeatures = testDf.drop('label',1)\n",
    "    prediction = classifier.predict(testFeatures)\n",
    "    \n",
    "    tab = pd.crosstab(testDf['label'], prediction)\n",
    "    \n",
    "    comparison = testDf[testDf['label'] == prediction]\n",
    "    accuracy = len(comparison) / len(testDf)\n",
    "    \n",
    "    return (tab, accuracy)"
   ]
  },
  {
   "cell_type": "markdown",
   "metadata": {},
   "source": [
    "Ahora procedemos a entrenar y probar un árbol con la base de datos:"
   ]
  },
  {
   "cell_type": "code",
   "execution_count": 26,
   "metadata": {},
   "outputs": [
    {
     "name": "stdout",
     "output_type": "stream",
     "text": [
      "Accuracy:  0.6623376623376623\n"
     ]
    },
    {
     "data": {
      "text/html": [
       "<div>\n",
       "<style>\n",
       "    .dataframe thead tr:only-child th {\n",
       "        text-align: right;\n",
       "    }\n",
       "\n",
       "    .dataframe thead th {\n",
       "        text-align: left;\n",
       "    }\n",
       "\n",
       "    .dataframe tbody tr th {\n",
       "        vertical-align: top;\n",
       "    }\n",
       "</style>\n",
       "<table border=\"1\" class=\"dataframe\">\n",
       "  <thead>\n",
       "    <tr style=\"text-align: right;\">\n",
       "      <th>col_0</th>\n",
       "      <th>tested_negative</th>\n",
       "      <th>tested_positive</th>\n",
       "    </tr>\n",
       "    <tr>\n",
       "      <th>label</th>\n",
       "      <th></th>\n",
       "      <th></th>\n",
       "    </tr>\n",
       "  </thead>\n",
       "  <tbody>\n",
       "    <tr>\n",
       "      <th>tested_negative</th>\n",
       "      <td>150</td>\n",
       "      <td>51</td>\n",
       "    </tr>\n",
       "    <tr>\n",
       "      <th>tested_positive</th>\n",
       "      <td>53</td>\n",
       "      <td>54</td>\n",
       "    </tr>\n",
       "  </tbody>\n",
       "</table>\n",
       "</div>"
      ],
      "text/plain": [
       "col_0            tested_negative  tested_positive\n",
       "label                                            \n",
       "tested_negative              150               51\n",
       "tested_positive               53               54"
      ]
     },
     "execution_count": 26,
     "metadata": {},
     "output_type": "execute_result"
    }
   ],
   "source": [
    "(pimatabs['tree'], acc) = trainAndEvalTree(train_pima, test_pima, seed)\n",
    "print (\"Accuracy: \",acc)\n",
    "pimatabs['tree']"
   ]
  },
  {
   "cell_type": "code",
   "execution_count": 27,
   "metadata": {},
   "outputs": [
    {
     "name": "stdout",
     "output_type": "stream",
     "text": [
      "Recall:  0.504672897196\n",
      "Precision:  0.514285714286\n",
      "F1 Score:  0.509433962264\n"
     ]
    }
   ],
   "source": [
    "rates['pima']['tree'] = calculateRates(pimatabs['tree'], 'tested_positive', 'tested_negative')\n",
    "print ('Recall: ', rates['pima']['tree']['tpr'])\n",
    "print ('Precision: ', rates['pima']['tree']['ppv'])\n",
    "print ('F1 Score: ', rates['pima']['tree']['f1'])"
   ]
  },
  {
   "cell_type": "markdown",
   "metadata": {},
   "source": [
    "## 1.5 Comparación de algoritmos"
   ]
  },
  {
   "cell_type": "markdown",
   "metadata": {},
   "source": [
    "Lo siguiente que vamos a realizar es comparar los algoritmos, para ello hemos definido dos funciones: una para calcular el área bajo la curva y otra para dibujar el área ROC."
   ]
  },
  {
   "cell_type": "code",
   "execution_count": 28,
   "metadata": {},
   "outputs": [],
   "source": [
    "def calcAUC(fpr, tpr):\n",
    "    auc = (fpr * tpr) / 2\n",
    "    auc += (1 - fpr) * tpr\n",
    "    auc += ((1 - fpr) * (1 - tpr)) / 2\n",
    "    return auc\n",
    "\n",
    "# Función que dibuja el area ROC\n",
    "def drawRoc(fpr, tpr, lbl, fig):\n",
    "    roc = fig.add_subplot(111)\n",
    "    A = 0, fpr, 1\n",
    "    B = 0, tpr, 1\n",
    "    \n",
    "    plt.plot(A, B)\n",
    "    roc.annotate(lbl, xy=(fpr,tpr), textcoords='data')\n",
    "    return calcAUC(fpr, tpr)"
   ]
  },
  {
   "cell_type": "code",
   "execution_count": 29,
   "metadata": {},
   "outputs": [
    {
     "data": {
      "image/png": "[encoded data removed]",
      "text/plain": [
       "<matplotlib.figure.Figure at 0x7f5b5daae208>"
      ]
     },
     "metadata": {},
     "output_type": "display_data"
    },
    {
     "name": "stdout",
     "output_type": "stream",
     "text": [
      "AUC ( zeroR ):  0.5\n",
      "AUC ( oneR ):  0.736643883387\n",
      "AUC ( tree ):  0.625470776956\n"
     ]
    }
   ],
   "source": [
    "fig = plt.figure()\n",
    "AUC = {}\n",
    "AUC['pima'] = {}\n",
    "for k, v in rates['pima'].items():\n",
    "    AUC['pima'][k] = drawRoc(v['fpr'], v['tpr'], k, fig)\n",
    "plt.show()\n",
    "\n",
    "for k, v in AUC['pima'].items():\n",
    "    print ('AUC (', k, '): ', v)"
   ]
  },
  {
   "cell_type": "markdown",
   "metadata": {},
   "source": [
    "Como podemos observar, el que peor clasifica es el zeroR, que tiene un área bajo la curva (AUC en adelante), de 0.5.\n",
    "El que mejor clasifica es el oneR."
   ]
  },
  {
   "cell_type": "markdown",
   "metadata": {},
   "source": []
  },
  {
   "cell_type": "markdown",
   "metadata": {},
   "source": [
    "# 2. Dataframe Wisconsin\n",
    "## 2.1 Análisis exploratorio mediante gráficas y estadísticos."
   ]
  },
  {
   "cell_type": "markdown",
   "metadata": {},
   "source": [
    "Se imprimen los histogramas correspondientes con Wisconsin"
   ]
  },
  {
   "cell_type": "code",
   "execution_count": 30,
   "metadata": {},
   "outputs": [
    {
     "data": {
      "image/png": "[encoded data removed]",
      "text/plain": [
       "<matplotlib.figure.Figure at 0x7f5b5dfe5d30>"
      ]
     },
     "metadata": {},
     "output_type": "display_data"
    }
   ],
   "source": [
    "gMultipleHistogram(dfs['wisconsin'])"
   ]
  },
  {
   "cell_type": "markdown",
   "metadata": {},
   "source": [
    "Las variables se corresponden con:\n",
    "1. patientId = Número de identificación del paciente.\n",
    "2. clumpThickness = Grosor de grupo.\n",
    "3. cellSize = Tamaño de la célula.\n",
    "4. CellShape = Forma de la célula.\n",
    "5. marginalAdhesion = Adhesión marginal.\n",
    "6. epithelialSize = Tamaño epitelial. \n",
    "7. bareNuclei = Núcleo sin citoplasma. !!!!!!!!!!!!!!!!!!!!!!!!!!!\n",
    "8. blandChromatin = Cromatina débil.\n",
    "9. normalNucleoli = Núcleo normal. !!!!!!!!!!!!!!!!!!!!!!!!!!\n",
    "10. mitoses = Mitosis.\n",
    "11. label = Variable categórica (malignant o benign).\n",
    "\n",
    "        \n",
    "· Los datos perdidos correspondiente a una variable de casos concretos son \"NA\".\n",
    "\n",
    "· La variable patientId, por su propio significado no es relevante a la hora de clasificar.\n",
    " \n",
    "· Todas las variables siguen una distribución bimodal similar y existe una correlación fuerte entre todas ellas, exceptuando la variable patientId que sigue una distribución uniforme continua.\n",
    " "
   ]
  },
  {
   "cell_type": "markdown",
   "metadata": {},
   "source": [
    "***Utilizamos diagramas de cajas y bigotes para representar los datos, ya que muestra de forma clara como se han distribuido los datos, así como los outliers.***"
   ]
  },
  {
   "cell_type": "code",
   "execution_count": 31,
   "metadata": {},
   "outputs": [
    {
     "data": {
      "image/png": "[encoded data removed]",
      "text/plain": [
       "<matplotlib.figure.Figure at 0x7f5b5da31d68>"
      ]
     },
     "metadata": {},
     "output_type": "display_data"
    },
    {
     "data": {
      "image/png": "[encoded data removed]",
      "text/plain": [
       "<matplotlib.figure.Figure at 0x7f5b5e0ad7b8>"
      ]
     },
     "metadata": {},
     "output_type": "display_data"
    },
    {
     "data": {
      "image/png": "[encoded data removed]",
      "text/plain": [
       "<matplotlib.figure.Figure at 0x7f5b5e1055f8>"
      ]
     },
     "metadata": {},
     "output_type": "display_data"
    },
    {
     "data": {
      "image/png": "[encoded data removed]",
      "text/plain": [
       "<matplotlib.figure.Figure at 0x7f5b5def4588>"
      ]
     },
     "metadata": {},
     "output_type": "display_data"
    },
    {
     "data": {
      "image/png": "[encoded data removed]",
      "text/plain": [
       "<matplotlib.figure.Figure at 0x7f5b5567e668>"
      ]
     },
     "metadata": {},
     "output_type": "display_data"
    },
    {
     "data": {
      "image/png": "[encoded data removed]",
      "text/plain": [
       "<matplotlib.figure.Figure at 0x7f5b555bd630>"
      ]
     },
     "metadata": {},
     "output_type": "display_data"
    },
    {
     "data": {
      "image/png": "[encoded data removed]",
      "text/plain": [
       "<matplotlib.figure.Figure at 0x7f5b555ca9e8>"
      ]
     },
     "metadata": {},
     "output_type": "display_data"
    },
    {
     "data": {
      "image/png": "[encoded data removed]",
      "text/plain": [
       "<matplotlib.figure.Figure at 0x7f5b55749fd0>"
      ]
     },
     "metadata": {},
     "output_type": "display_data"
    },
    {
     "data": {
      "image/png": "[encoded data removed]",
      "text/plain": [
       "<matplotlib.figure.Figure at 0x7f5b5e36f5f8>"
      ]
     },
     "metadata": {},
     "output_type": "display_data"
    },
    {
     "data": {
      "image/png": "[encoded data removed]",
      "text/plain": [
       "<matplotlib.figure.Figure at 0x7f5b5e2260b8>"
      ]
     },
     "metadata": {},
     "output_type": "display_data"
    }
   ],
   "source": [
    "drawClassRelation(dfs['wisconsin'])"
   ]
  },
  {
   "cell_type": "markdown",
   "metadata": {},
   "source": [
    "En función de las variables se puede contemplar:\n",
    "\n",
    "    · patientId: como se comentó, no tiene sentido analizarla.\n",
    "\n",
    "    · clumpThickness: valores bajos (benign), valores altos (malignant).\n",
    "\n",
    "    · cellSize: valores bajos (benign), valores altos (malignant).\n",
    "\n",
    "    · cellShape: valores bajos (benign), valores altos (malignant).\n",
    "\n",
    "    · marginalAdhesion: valores bajos (benign), valores altos (malignant).\n",
    "\n",
    "    · epithelialSize: valores cercanos a 2 (benign), valores alejados de 2 (malignant).\n",
    "\n",
    "    · bareNuclei: valores bajos (benign), valores altos (malignant).\n",
    "\n",
    "    · blandChromatin: valores bajos (benign), valores altos (malignant).\n",
    "\n",
    "    · normalNucleoli: valores bajos (benign), valores altos (malignant).\n",
    "\n",
    "    · mitoses: valores medio-alto (malignant).\n",
    "    \n",
    " Como se puede observar la variable que mejor clasifica es normalNucleoli, junto con las relacionadas con el núcleo, el tamaño y la forma."
   ]
  },
  {
   "cell_type": "markdown",
   "metadata": {},
   "source": [
    "_________\n",
    "**¿La variable clase es balanceada?**\n",
    "\n",
    "Como se puede contemplar en el siguiente diagrama de barras hay considerablemente más clasificados como benign que malignant. Por ello no está balanceada."
   ]
  },
  {
   "cell_type": "code",
   "execution_count": 32,
   "metadata": {},
   "outputs": [
    {
     "data": {
      "image/png": "[encoded data removed]",
      "text/plain": [
       "<matplotlib.figure.Figure at 0x7f5b556a41d0>"
      ]
     },
     "metadata": {},
     "output_type": "display_data"
    }
   ],
   "source": [
    "gSingleBarplot(dfs['wisconsin'],\"label\")"
   ]
  },
  {
   "cell_type": "markdown",
   "metadata": {},
   "source": [
    "## 2.2. Aprendizaje y evaluación de un clasificador zeroR"
   ]
  },
  {
   "cell_type": "markdown",
   "metadata": {},
   "source": [
    "Se procede a realizar el proceso de Holdout balanceado y se sustituyen los valores perdidos por la media."
   ]
  },
  {
   "cell_type": "code",
   "execution_count": 33,
   "metadata": {},
   "outputs": [],
   "source": [
    "(train_wisconsin, test_wisconsin) = balHoldout(dfs['wisconsin'], 'label', seed)\n",
    "meansValues = train_wisconsin.mean()\n",
    "train_wisconsin = train_wisconsin.fillna( meansValues )\n",
    "test_wisconsin = test_wisconsin.fillna( meansValues )"
   ]
  },
  {
   "cell_type": "markdown",
   "metadata": {},
   "source": [
    "A continuación, se procede con la evaluación de los datos de Wisconsin. Almacenaremos la matriz de confusión para realizar la comparación con otros algoritmos posteriormente."
   ]
  },
  {
   "cell_type": "code",
   "execution_count": 34,
   "metadata": {},
   "outputs": [
    {
     "name": "stdout",
     "output_type": "stream",
     "text": [
      "Accuracy:  0.6535714285714286\n"
     ]
    },
    {
     "data": {
      "text/html": [
       "<div>\n",
       "<style>\n",
       "    .dataframe thead tr:only-child th {\n",
       "        text-align: right;\n",
       "    }\n",
       "\n",
       "    .dataframe thead th {\n",
       "        text-align: left;\n",
       "    }\n",
       "\n",
       "    .dataframe tbody tr th {\n",
       "        vertical-align: top;\n",
       "    }\n",
       "</style>\n",
       "<table border=\"1\" class=\"dataframe\">\n",
       "  <thead>\n",
       "    <tr style=\"text-align: right;\">\n",
       "      <th>prediction</th>\n",
       "      <th>benign</th>\n",
       "    </tr>\n",
       "    <tr>\n",
       "      <th>label</th>\n",
       "      <th></th>\n",
       "    </tr>\n",
       "  </thead>\n",
       "  <tbody>\n",
       "    <tr>\n",
       "      <th>benign</th>\n",
       "      <td>183</td>\n",
       "    </tr>\n",
       "    <tr>\n",
       "      <th>malignant</th>\n",
       "      <td>97</td>\n",
       "    </tr>\n",
       "  </tbody>\n",
       "</table>\n",
       "</div>"
      ],
      "text/plain": [
       "prediction  benign\n",
       "label             \n",
       "benign         183\n",
       "malignant       97"
      ]
     },
     "execution_count": 34,
     "metadata": {},
     "output_type": "execute_result"
    }
   ],
   "source": [
    "wisconsintabs = {}\n",
    "(wisconsintabs['zeroR'], wisconsinaccuracy) = trainAndEvalClassifier(trainZeroR, train_wisconsin, test_wisconsin)\n",
    "print (\"Accuracy: \",wisconsinaccuracy)\n",
    "wisconsintabs['zeroR']"
   ]
  },
  {
   "cell_type": "markdown",
   "metadata": {},
   "source": [
    "Dado que la semántica del problema parece indicar que lo más interesante es detectar los casos en los que se clasifica como \"malignant\" y en este caso zeroR clasifica todo como \"benign\", es un mal algoritmo.\n",
    "\n",
    "Se puede calcular un amplio abanico de ratios que nos permiten evaluar un clasificador con más objetividad. Definimos una función que a partir de una matriz de confusión calcula varios de estos valores.\n",
    "\n",
    "Dado que tomar el accuracy por referencia no es un buen método para clasificar como bueno o malo el modelo se procede a realizar un análisis **ROC (Receiver Operating Characteristics)** a partir de la matriz de confusión."
   ]
  },
  {
   "cell_type": "markdown",
   "metadata": {},
   "source": [
    "El **recall/sensitivity/tpr** nos da una buena medida de lo bueno que es un algoritmo en el que lo importante es detectar los positivos. \n",
    "\n",
    "La **precisión/ppv** también es importante, ya que mide de los clasificados como positivos, cuáles lo son realmente. \n",
    "\n",
    "A partir de ambos valores se da el **F1 Score**, que trata de mostrar el balance entre ambas tasas."
   ]
  },
  {
   "cell_type": "code",
   "execution_count": 35,
   "metadata": {},
   "outputs": [
    {
     "name": "stdout",
     "output_type": "stream",
     "text": [
      "Recall:  0.0\n",
      "Precision:  0.0\n",
      "F1 Score:  0.0\n"
     ]
    }
   ],
   "source": [
    "rates = {}\n",
    "rates['wisconsin'] = {}\n",
    "rates['wisconsin']['zeroR'] = calculateRates(wisconsintabs['zeroR'], 'malignant', 'benign')\n",
    "print ('Recall: ', rates['wisconsin']['zeroR']['tpr'])\n",
    "print ('Precision: ', rates['wisconsin']['zeroR']['ppv'])\n",
    "print ('F1 Score: ', rates['wisconsin']['zeroR']['f1'])"
   ]
  },
  {
   "cell_type": "markdown",
   "metadata": {},
   "source": [
    "## 2.3. Aprendizaje y evaluación de un clasificador oneR. \n",
    "A continuación se evalúan los datos de Wisconsin."
   ]
  },
  {
   "cell_type": "code",
   "execution_count": 36,
   "metadata": {},
   "outputs": [
    {
     "name": "stdout",
     "output_type": "stream",
     "text": [
      "-----------------------------------\n",
      "Training OneR\n",
      "-----------------------------------\n",
      "attribute\terror\n",
      "patientId \t 144\n",
      "clumpThickness \t 52\n",
      "cellSize \t 65\n",
      "CellShape \t 67\n",
      "marginalAdhesion \t 79\n",
      "epithelialSize \t 91\n",
      "bareNuclei \t 44\n",
      "blandChromatin \t 64\n",
      "normalNucleoli \t 76\n",
      "mitoses \t 128\n",
      "-----------------------------------\n",
      "Accuracy:  0.8714285714285714\n"
     ]
    },
    {
     "data": {
      "text/html": [
       "<div>\n",
       "<style>\n",
       "    .dataframe thead tr:only-child th {\n",
       "        text-align: right;\n",
       "    }\n",
       "\n",
       "    .dataframe thead th {\n",
       "        text-align: left;\n",
       "    }\n",
       "\n",
       "    .dataframe tbody tr th {\n",
       "        vertical-align: top;\n",
       "    }\n",
       "</style>\n",
       "<table border=\"1\" class=\"dataframe\">\n",
       "  <thead>\n",
       "    <tr style=\"text-align: right;\">\n",
       "      <th>prediction</th>\n",
       "      <th>benign</th>\n",
       "      <th>malignant</th>\n",
       "    </tr>\n",
       "    <tr>\n",
       "      <th>label</th>\n",
       "      <th></th>\n",
       "      <th></th>\n",
       "    </tr>\n",
       "  </thead>\n",
       "  <tbody>\n",
       "    <tr>\n",
       "      <th>benign</th>\n",
       "      <td>181</td>\n",
       "      <td>2</td>\n",
       "    </tr>\n",
       "    <tr>\n",
       "      <th>malignant</th>\n",
       "      <td>34</td>\n",
       "      <td>63</td>\n",
       "    </tr>\n",
       "  </tbody>\n",
       "</table>\n",
       "</div>"
      ],
      "text/plain": [
       "prediction  benign  malignant\n",
       "label                        \n",
       "benign         181          2\n",
       "malignant       34         63"
      ]
     },
     "execution_count": 36,
     "metadata": {},
     "output_type": "execute_result"
    }
   ],
   "source": [
    "(wisconsintabs['oneR'], wisconsinaccuracy) = trainAndEvalClassifier(trainOneR, train_wisconsin, test_wisconsin, nbins=len(dfs['wisconsin'].label.unique()))\n",
    "print (\"Accuracy: \",wisconsinaccuracy)\n",
    "wisconsintabs['oneR']"
   ]
  },
  {
   "cell_type": "code",
   "execution_count": 37,
   "metadata": {},
   "outputs": [
    {
     "name": "stdout",
     "output_type": "stream",
     "text": [
      "Recall:  0.649484536082\n",
      "Precision:  0.969230769231\n",
      "F1 Score:  0.777777777778\n"
     ]
    }
   ],
   "source": [
    "rates['wisconsin']['oneR'] = calculateRates(wisconsintabs['oneR'], 'malignant', 'benign')\n",
    "print ('Recall: ', rates['wisconsin']['oneR']['tpr'])\n",
    "print ('Precision: ', rates['wisconsin']['oneR']['ppv'])\n",
    "print ('F1 Score: ', rates['wisconsin']['oneR']['f1'])"
   ]
  },
  {
   "cell_type": "markdown",
   "metadata": {},
   "source": [
    "Ahora comprobamos si hay alguna mejora tratando los valores perdidos.\n",
    "\n",
    "Se sustituyen los valores perdidos por la media:"
   ]
  },
  {
   "cell_type": "markdown",
   "metadata": {},
   "source": [
    "## 2.4. Aprendizaje y evaluación de un árbol de decisión."
   ]
  },
  {
   "cell_type": "markdown",
   "metadata": {},
   "source": [
    "Ahora procedemos a entrenar y probar un árbol con la base de datos."
   ]
  },
  {
   "cell_type": "code",
   "execution_count": 38,
   "metadata": {},
   "outputs": [
    {
     "name": "stdout",
     "output_type": "stream",
     "text": [
      "Accuracy:  0.9285714285714286\n"
     ]
    },
    {
     "data": {
      "text/html": [
       "<div>\n",
       "<style>\n",
       "    .dataframe thead tr:only-child th {\n",
       "        text-align: right;\n",
       "    }\n",
       "\n",
       "    .dataframe thead th {\n",
       "        text-align: left;\n",
       "    }\n",
       "\n",
       "    .dataframe tbody tr th {\n",
       "        vertical-align: top;\n",
       "    }\n",
       "</style>\n",
       "<table border=\"1\" class=\"dataframe\">\n",
       "  <thead>\n",
       "    <tr style=\"text-align: right;\">\n",
       "      <th>col_0</th>\n",
       "      <th>benign</th>\n",
       "      <th>malignant</th>\n",
       "    </tr>\n",
       "    <tr>\n",
       "      <th>label</th>\n",
       "      <th></th>\n",
       "      <th></th>\n",
       "    </tr>\n",
       "  </thead>\n",
       "  <tbody>\n",
       "    <tr>\n",
       "      <th>benign</th>\n",
       "      <td>176</td>\n",
       "      <td>7</td>\n",
       "    </tr>\n",
       "    <tr>\n",
       "      <th>malignant</th>\n",
       "      <td>13</td>\n",
       "      <td>84</td>\n",
       "    </tr>\n",
       "  </tbody>\n",
       "</table>\n",
       "</div>"
      ],
      "text/plain": [
       "col_0      benign  malignant\n",
       "label                       \n",
       "benign        176          7\n",
       "malignant      13         84"
      ]
     },
     "execution_count": 38,
     "metadata": {},
     "output_type": "execute_result"
    }
   ],
   "source": [
    "(wisconsintabs['tree'], acc) = trainAndEvalTree(train_wisconsin, test_wisconsin, seed)\n",
    "print (\"Accuracy: \",acc)\n",
    "wisconsintabs['tree']"
   ]
  },
  {
   "cell_type": "code",
   "execution_count": 39,
   "metadata": {},
   "outputs": [
    {
     "name": "stdout",
     "output_type": "stream",
     "text": [
      "Recall:  0.865979381443\n",
      "Precision:  0.923076923077\n",
      "F1 Score:  0.893617021277\n"
     ]
    }
   ],
   "source": [
    "rates['wisconsin']['tree'] = calculateRates(wisconsintabs['tree'], 'malignant', 'benign')\n",
    "print ('Recall: ', rates['wisconsin']['tree']['tpr'])\n",
    "print ('Precision: ', rates['wisconsin']['tree']['ppv'])\n",
    "print ('F1 Score: ', rates['wisconsin']['tree']['f1'])"
   ]
  },
  {
   "cell_type": "markdown",
   "metadata": {},
   "source": [
    "## 2.5 Comparación de algoritmos"
   ]
  },
  {
   "cell_type": "markdown",
   "metadata": {},
   "source": [
    "Lo siguiente que vamos a realizar es comparar los algoritmos."
   ]
  },
  {
   "cell_type": "code",
   "execution_count": 40,
   "metadata": {},
   "outputs": [
    {
     "data": {
      "image/png": "[encoded data removed]",
      "text/plain": [
       "<matplotlib.figure.Figure at 0x7f5b5d9732b0>"
      ]
     },
     "metadata": {},
     "output_type": "display_data"
    },
    {
     "name": "stdout",
     "output_type": "stream",
     "text": [
      "AUC ( zeroR ):  0.5\n",
      "AUC ( oneR ):  0.819277787167\n",
      "AUC ( tree ):  0.913864007662\n"
     ]
    }
   ],
   "source": [
    "fig = plt.figure()\n",
    "AUC = {}\n",
    "AUC['wisconsin'] = {}\n",
    "for k, v in rates['wisconsin'].items():\n",
    "    AUC['wisconsin'][k] = drawRoc(v['fpr'], v['tpr'], k, fig)\n",
    "plt.show()\n",
    "\n",
    "for k, v in AUC['wisconsin'].items():\n",
    "    print ('AUC (', k, '): ', v)"
   ]
  },
  {
   "cell_type": "code",
   "execution_count": null,
   "metadata": {},
   "outputs": [],
   "source": []
  },
  {
   "cell_type": "code",
   "execution_count": null,
   "metadata": {},
   "outputs": [],
   "source": []
  }
 ],
 "metadata": {
  "kernelspec": {
   "display_name": "Python 3",
   "language": "python",
   "name": "python3"
  },
  "language_info": {
   "codemirror_mode": {
    "name": "ipython",
    "version": 3
   },
   "file_extension": ".py",
   "mimetype": "text/x-python",
   "name": "python",
   "nbconvert_exporter": "python",
   "pygments_lexer": "ipython3",
   "version": "3.6.2"
  }
 },
 "nbformat": 4,
 "nbformat_minor": 2
}
