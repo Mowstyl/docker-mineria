{
 "cells": [
  {
   "cell_type": "markdown",
   "metadata": {},
   "source": [
    "# Práctica 0\n",
    "\n",
    "## Jacinto Arias, José A. Gámez - Minería de Datos Curso 2016/2017\n"
   ]
  },
  {
   "cell_type": "markdown",
   "metadata": {},
   "source": [
    "En esta práctica veremos las capacidades básicas de jupyter y comenzaremos a trabajar con las librerías de python que utilizaremos durante el curso."
   ]
  },
  {
   "cell_type": "markdown",
   "metadata": {},
   "source": [
    "## Editando texto con Markdown"
   ]
  },
  {
   "cell_type": "markdown",
   "metadata": {},
   "source": [
    "El formato **markdown** se ha convertido en el formato de texto anotado más popular después de **html**, esto se debe principalmente a que siendo solo un superconjunto con respecto a este último la forma de trabajar es mucho más ligera y por ello podemos usarlo en multitud de sitios. Generalmente se usa mucho para documentar pequeños fragmentos como los ficheros ```README.md``` de **github**"
   ]
  },
  {
   "cell_type": "markdown",
   "metadata": {},
   "source": [
    "La sintaxis es muy reducida y fácil de aprender, podéis consultarla en el siguiente [Enlace](http://jupyter-notebook.readthedocs.io/en/latest/examples/Notebook/Working%20With%20Markdown%20Cells.html). A continuación os dejo unos ejemplos que podéis consultar editando el código de la celda:"
   ]
  },
  {
   "cell_type": "markdown",
   "metadata": {},
   "source": [
    "# Encabezado 1\n",
    "## Encabezado 2\n",
    "### Encabezado 3\n",
    "#### Encabezado 4\n",
    "\n",
    "**Negrita**, *cursiva*\n",
    "* Lista1\n",
    "* Lista2\n",
    "* Lista3\n",
    "\n",
    "Incluso fórmulas en formato $\\LaTeX$!\n",
    "$$P(A \\mid B) = \\frac{P(B \\mid A) P(A)}{P(B)}$$\n",
    "\n"
   ]
  },
  {
   "cell_type": "markdown",
   "metadata": {},
   "source": [
    "## Trabajando con python"
   ]
  },
  {
   "cell_type": "markdown",
   "metadata": {},
   "source": [
    "Cualquier tipo de expresión se puede escribir en una libreta de python, la salida de dicho código así como todo lo que imprimamos por consola (y las excepción si algo ha ido mal) se mostrarán en la celda de \"salida\" despues de la ejecución."
   ]
  },
  {
   "cell_type": "code",
   "execution_count": 1,
   "metadata": {},
   "outputs": [
    {
     "name": "stdout",
     "output_type": "stream",
     "text": [
      "10\n"
     ]
    },
    {
     "data": {
      "text/plain": [
       "5"
      ]
     },
     "execution_count": 1,
     "metadata": {},
     "output_type": "execute_result"
    }
   ],
   "source": [
    "a = 10\n",
    "b = 5\n",
    "print(a)\n",
    "a\n",
    "b"
   ]
  },
  {
   "cell_type": "markdown",
   "metadata": {},
   "source": [
    "Como podéis apreciar la salida de la celda corresponde con la última expresión evaluada, mientras que si imprimimos cualquier valor podremos observar la salida justo antes. "
   ]
  },
  {
   "cell_type": "markdown",
   "metadata": {},
   "source": [
    "Podemos escribir cualquier fragmento de código, incluyendo clases o funciones:"
   ]
  },
  {
   "cell_type": "code",
   "execution_count": 2,
   "metadata": {},
   "outputs": [],
   "source": [
    "# Filtra los numeros impares\n",
    "def impares(arr):\n",
    "    return [x for x in arr if x%2!=0]"
   ]
  },
  {
   "cell_type": "code",
   "execution_count": 3,
   "metadata": {},
   "outputs": [
    {
     "name": "stdout",
     "output_type": "stream",
     "text": [
      "[0, 3, 6, 9, 12, 15, 18, 21, 24, 27]\n",
      "[3, 9, 15, 21, 27]\n"
     ]
    }
   ],
   "source": [
    "a = [x*3 for x in range(10)]\n",
    "print(a)\n",
    "print(impares(a))"
   ]
  },
  {
   "cell_type": "markdown",
   "metadata": {},
   "source": [
    "## Trabajando con Scientific Python\n",
    "A continuación veremos muy por encima las funcionalidades básicas de las librerías de python que utilizaremos"
   ]
  },
  {
   "cell_type": "markdown",
   "metadata": {
    "collapsed": true
   },
   "source": [
    "Cargando librerías:"
   ]
  },
  {
   "cell_type": "code",
   "execution_count": 4,
   "metadata": {},
   "outputs": [],
   "source": [
    "import numpy as np\n",
    "import pandas as pd\n",
    "from scipy import stats, integrate\n",
    "import matplotlib as mpl\n",
    "import matplotlib.pyplot as plt\n",
    "\n",
    "import seaborn as sns\n",
    "sns.set(color_codes=True)"
   ]
  },
  {
   "cell_type": "markdown",
   "metadata": {},
   "source": [
    "## Numpy"
   ]
  },
  {
   "cell_type": "markdown",
   "metadata": {},
   "source": [
    "Numpy es un motor de álgebra lineal al estilo de matlab. Su principal funcionalidad se enmarca en torno a la gestión de matrices y vectores. Más información sobre uso básico en el siguiente [Enlace](https://docs.scipy.org/doc/numpy-dev/user/quickstart.html)"
   ]
  },
  {
   "cell_type": "markdown",
   "metadata": {},
   "source": [
    "### Creación de Arrays"
   ]
  },
  {
   "cell_type": "code",
   "execution_count": 5,
   "metadata": {},
   "outputs": [
    {
     "name": "stdout",
     "output_type": "stream",
     "text": [
      "[0 1 2 3]\n",
      "[0 1 2 3]\n"
     ]
    }
   ],
   "source": [
    "# Podemos crear arrays de distintas dimensiones, utilizando para ello distintas opciones:\n",
    "\n",
    "# Usando una secuencia de python\n",
    "a1 = np.array([0,1,2,3])\n",
    "print(a1)\n",
    "# Usando el generador de rangos de numpy\n",
    "a2 = np.arange(4)\n",
    "print(a2)"
   ]
  },
  {
   "cell_type": "code",
   "execution_count": 10,
   "metadata": {},
   "outputs": [
    {
     "name": "stdout",
     "output_type": "stream",
     "text": [
      "[[ 0  1  2  3]\n",
      " [ 4  5  6  7]\n",
      " [ 8  9 10 11]]\n",
      "\n",
      "[[ 0  1  2  3]\n",
      " [ 4  5  6  7]\n",
      " [ 8  9 10 11]]\n"
     ]
    }
   ],
   "source": [
    "# Para crear una matriz, usamos distintas dimensiones o la funcion para dimensionar un array unidimensional:\n",
    "b1 = np.array([[0,1,2,3],\n",
    "               [4,5,6,7],\n",
    "               [8,9,10,11]])\n",
    "print(b1)\n",
    "print()\n",
    "b2 = np.arange(12).reshape(3, 4)\n",
    "print(b2)"
   ]
  },
  {
   "cell_type": "code",
   "execution_count": 8,
   "metadata": {},
   "outputs": [
    {
     "name": "stdout",
     "output_type": "stream",
     "text": [
      "[[ 0.  0.  0.  0.]\n",
      " [ 0.  0.  0.  0.]\n",
      " [ 0.  0.  0.  0.]] \n",
      "\n",
      " [[ 1.  1.  1.]\n",
      " [ 1.  1.  1.]\n",
      " [ 1.  1.  1.]] \n",
      "\n",
      " [[ 1.  0.  0.]\n",
      " [ 0.  1.  0.]\n",
      " [ 0.  0.  1.]]\n"
     ]
    }
   ],
   "source": [
    "# Tambien podemos crear matrices de un tamaño predeterminados:\n",
    "z = np.zeros((3,4))\n",
    "o = np.ones((3,3))\n",
    "i = np.eye(3,3)\n",
    "print(z,\"\\n\\n\",o,\"\\n\\n\",i)"
   ]
  },
  {
   "cell_type": "markdown",
   "metadata": {},
   "source": [
    "### Propiedades\n",
    "Podemos acceder a diversas propiedades de una matriz"
   ]
  },
  {
   "cell_type": "code",
   "execution_count": null,
   "metadata": {},
   "outputs": [],
   "source": [
    "a = np.arange(12).reshape(3, 4)\n",
    "print(a, \"\\n\")\n",
    "# Tamaño de sus dimensiones\n",
    "print(a.shape)\n",
    "# Rango\n",
    "print(a.ndim)\n",
    "# Tipo de datos\n",
    "print(a.dtype.name)"
   ]
  },
  {
   "cell_type": "markdown",
   "metadata": {},
   "source": [
    "###  Operaciones\n",
    "numpy viene cargado con multitud de operaciones en referencia a los elementos de la matriz y operaciones de álgebra lineal"
   ]
  },
  {
   "cell_type": "code",
   "execution_count": null,
   "metadata": {},
   "outputs": [],
   "source": [
    "# Algunas operaciones entre elementos\n",
    "print(a * 3, \"\\n\")\n",
    "print(a ** 2, \"\\n\")\n",
    "\n",
    "# Que estamos haciendo aqui?\n",
    "print(o + np.eye(o.shape[1]) * 2)\n"
   ]
  },
  {
   "cell_type": "code",
   "execution_count": null,
   "metadata": {},
   "outputs": [],
   "source": [
    "a = np.array([[4, 7], [2, 6]])\n",
    "print(a, \"\\n\")\n",
    "\n",
    "# Operaciones entre matrices:\n",
    "\n",
    "# Transposición\n",
    "print(a.transpose(), \"\\n\")\n",
    "\n",
    "# Inversa:\n",
    "print(np.linalg.inv(a), \"\\n\")\n",
    "\n",
    "# Producto: ¿que estamos haciendo con esta operacion?\n",
    "print(np.dot(a, np.linalg.inv(a)) , \"\\n\")"
   ]
  },
  {
   "cell_type": "markdown",
   "metadata": {},
   "source": [
    "### Índices\n",
    "Existen diversas formas de indexar matrices, muy similares a como se indexan el resto de estructuras en python básico"
   ]
  },
  {
   "cell_type": "code",
   "execution_count": null,
   "metadata": {},
   "outputs": [],
   "source": [
    "a = np.arange(12).reshape(3, 4)\n",
    "\n",
    "print(a[0,2], \"\\n\")\n",
    "print(a[:,2], \"\\n\")\n",
    "print(a[0,:], \"\\n\")\n",
    "print(a[0:2,0:2], \"\\n\")"
   ]
  },
  {
   "cell_type": "markdown",
   "metadata": {},
   "source": [
    "## Pandas\n",
    "Pandas es la librería de tratamiento de datos estructurados que utilizaremos durante las prácticas. Más información en el siguiente [Enlace](http://pandas.pydata.org/pandas-docs/stable/10min.html)"
   ]
  },
  {
   "cell_type": "markdown",
   "metadata": {},
   "source": [
    "### Creando datos\n",
    "Normalmente trabajaremos con conjuntos de datos obtenidos de sucesos o experimentos reales, pero a veces, para probar las cosas, podemos trabajar sencillamente con datos generados sintéticamente.\n",
    "\n",
    "Un **dataframe** es una estructura de datos similar a una tabla de una base de datos, donde las columnas representarán variables y las filas casos concretos.\n",
    "\n",
    "Pandas es capaz de crear estos dataframes a partir de diversas estructuras y distintos tipos de datos."
   ]
  },
  {
   "cell_type": "code",
   "execution_count": null,
   "metadata": {},
   "outputs": [],
   "source": [
    "# El caso mas sencillo es crear variable numericas. Para ello utilizaremos los generadores aleatorios de numpy.\n",
    "\n",
    "# Generamos 100 ocurrencias de una variable aleatoria uniforme:\n",
    "n = 100\n",
    "unif = np.random.uniform(size = n)\n",
    "# Generamos 100 ocurrencias de una variable aleatoria gaussiana:\n",
    "gauss = np.random.normal(loc = 0, scale = 1, size = n)\n",
    "# Generamos 100 ocurrencias de una variable aleatoria discreta:\n",
    "dias = np.random.choice([\"lunes\", \"martes\", \"jueves\"], size = n)\n",
    "\n",
    "# Imprimimos los 5 primeros valores de cada una:\n",
    "print(unif[0:5])\n",
    "print(gauss[0:5])\n",
    "print(dias[0:5])"
   ]
  },
  {
   "cell_type": "code",
   "execution_count": null,
   "metadata": {},
   "outputs": [],
   "source": [
    "# Ahora podemos crear el dataframe pasandole para ello un diccionario con las variables y sus nombres:\n",
    "df = pd.DataFrame({\"uniforme\" : unif, \"gaussiana\" : gauss, \"dias\" : dias})"
   ]
  },
  {
   "cell_type": "markdown",
   "metadata": {},
   "source": [
    "Ahora podemos imprimirlo, podeis observar como jupyter renderiza una tabla para que podamos ver los datos con mayor comodidad. Para reducir la tabla y que no ocupe toda la pantalla podéis usar el atajo ```shift+o``` en modo comando."
   ]
  },
  {
   "cell_type": "code",
   "execution_count": null,
   "metadata": {
    "scrolled": true
   },
   "outputs": [],
   "source": [
    "df"
   ]
  },
  {
   "cell_type": "markdown",
   "metadata": {},
   "source": [
    "### Operando sobre DataFrames\n",
    "Durante el resto del curso iremos introduciendo diversas operaciones sobre conjuntos de datos que nos permitirar procesar los datos de la manera que necesitemos de cara a preparar nuestros algoritmos. De momento vamos probar algunas de las más frecuentes."
   ]
  },
  {
   "cell_type": "markdown",
   "metadata": {},
   "source": [
    "Con head podemos obtener las primeras n filas del DataFrame, para poder visualizar o probar cosas.\n",
    "Imaginad que tuviesemos 10M de filas, ¿qué pasaría al intentar imprimir la tabla?"
   ]
  },
  {
   "cell_type": "code",
   "execution_count": null,
   "metadata": {},
   "outputs": [],
   "source": [
    "df.head(6)"
   ]
  },
  {
   "cell_type": "markdown",
   "metadata": {},
   "source": [
    "También podemos obtener subconjuntos del DataFrame mediante operaciones más potentes, como indexado directo o indexado condiciado a determinadas propiedades"
   ]
  },
  {
   "cell_type": "code",
   "execution_count": null,
   "metadata": {},
   "outputs": [],
   "source": [
    "# Obtener determinadas filas\n",
    "df.loc[0:5,:]"
   ]
  },
  {
   "cell_type": "code",
   "execution_count": null,
   "metadata": {},
   "outputs": [],
   "source": [
    "# Obtener determinadas columnas\n",
    "df.loc[0:5,['dias']]"
   ]
  },
  {
   "cell_type": "code",
   "execution_count": null,
   "metadata": {},
   "outputs": [],
   "source": [
    "# Obtener filas que cumplan una condición\n",
    "df.loc[df.dias == \"lunes\"].head()"
   ]
  },
  {
   "cell_type": "markdown",
   "metadata": {},
   "source": [
    "### Operaciones sobre los datos:\n",
    "Podemos efectuar distintas operaciones sobre los datos. Algunas de las más importantes son la obtención de estadísticos:"
   ]
  },
  {
   "cell_type": "code",
   "execution_count": null,
   "metadata": {},
   "outputs": [],
   "source": [
    "# La media de las variables numéricas:\n",
    "df.mean()"
   ]
  },
  {
   "cell_type": "code",
   "execution_count": null,
   "metadata": {},
   "outputs": [],
   "source": [
    "# En general podemos obtener una descripción general:\n",
    "df.describe()"
   ]
  },
  {
   "cell_type": "code",
   "execution_count": null,
   "metadata": {},
   "outputs": [],
   "source": [
    "# O en el caso de variables categóricas podemos agrupar los valores y contar\n",
    "df.groupby('dias').count()"
   ]
  },
  {
   "cell_type": "markdown",
   "metadata": {},
   "source": [
    "### Generación de gráficas"
   ]
  },
  {
   "cell_type": "markdown",
   "metadata": {},
   "source": [
    "Las gráficas son sumamente importantes en cualquier actividad relacionada con la Minería de Datos. En este curso usaremos muchas gráficas, pero no incidiremos en el uso de las librerías que las generan sino más bien en saber interpretarlas de manera general; es por ello que la mayoría del código de generación de gráficas irá ya preparado dentro de las libretas."
   ]
  },
  {
   "cell_type": "markdown",
   "metadata": {},
   "source": [
    "### Algunos ejemplos:"
   ]
  },
  {
   "cell_type": "code",
   "execution_count": null,
   "metadata": {},
   "outputs": [],
   "source": [
    "# Codigo auziliar para configurar el entorno gráfico no es necesario entenderlo...\n",
    "%matplotlib inline\n",
    "mpl.rcParams[\"figure.figsize\"] = \"8, 4\"\n",
    "import warnings\n",
    "warnings.simplefilter(\"ignore\")"
   ]
  },
  {
   "cell_type": "markdown",
   "metadata": {},
   "source": [
    "Vamos a mostrar nuestras variables numéricas a modo de **histograma**, así podremos identificar la distribución aleatoria con la que las hemos creado."
   ]
  },
  {
   "cell_type": "code",
   "execution_count": null,
   "metadata": {},
   "outputs": [],
   "source": [
    "sns.distplot(df.gaussiana)"
   ]
  },
  {
   "cell_type": "code",
   "execution_count": null,
   "metadata": {},
   "outputs": [],
   "source": [
    "# Histogramas para nuestras variables numéricas\n",
    "sns.distplot(df.uniforme)"
   ]
  },
  {
   "cell_type": "markdown",
   "metadata": {},
   "source": [
    "Ahora podemos probar a representar ambas variables simultáneamente en un **scatterplot**. Observad fijamente el gráfico ¿Existe algún tipo de correlación, tiene alguna utilidad adicional esta gráfica con respecto a las otras dos?"
   ]
  },
  {
   "cell_type": "code",
   "execution_count": null,
   "metadata": {},
   "outputs": [],
   "source": [
    "sns.jointplot(x=\"gaussiana\", y=\"uniforme\", data=df);"
   ]
  },
  {
   "cell_type": "markdown",
   "metadata": {},
   "source": [
    "Estas representaciones son válidad para variables numéricas, pero, ¿cómo podemos representar variables categóricas?\n",
    "Las seguientes gráficas muestras algunos ejemplos de cómo lograrlo."
   ]
  },
  {
   "cell_type": "code",
   "execution_count": null,
   "metadata": {},
   "outputs": [],
   "source": [
    "sns.countplot(x=\"dias\", data=df);"
   ]
  },
  {
   "cell_type": "markdown",
   "metadata": {},
   "source": [
    "Por último, hay veces que nos interesa mezclar información categórica con información numérica. Para ello podemos utilizar una gráfica organizada por capas. En este caso no observaremos nada especial puesto que nuestros datos son completamente aleatorios.\n"
   ]
  },
  {
   "cell_type": "markdown",
   "metadata": {},
   "source": [
    "En este gráfico mostramos la variable ```gaussiana``` contra la variable ```dias```\n"
   ]
  },
  {
   "cell_type": "code",
   "execution_count": null,
   "metadata": {},
   "outputs": [],
   "source": [
    "g = sns.FacetGrid(df, col=\"dias\", hue=\"dias\")\n",
    "g.map(plt.hist, \"gaussiana\");"
   ]
  },
  {
   "cell_type": "markdown",
   "metadata": {},
   "source": [
    "# Ejercicios"
   ]
  },
  {
   "cell_type": "markdown",
   "metadata": {},
   "source": [
    "Hemos realizado un repaso rápido por algunas de las funcionalidades que veremos a lo largo del curso. Es recomendable que los alumnos repasen de nuevo la libreta y se familiaricen con la sintaxis que acabamos de ver. No es necesario memorizar ni adquirir un nivel de experiencia demasiado alto con estas herramientas ya que los ejercicios de programación irán en su mayoria muy guiados. No obstante sí es recomendable poder entender las operaciones a realizar con fluidez para poder prestar atención a los conceptos de Minería de Datos que se expliquen."
   ]
  },
  {
   "cell_type": "markdown",
   "metadata": {},
   "source": [
    "Por ello, y con caracter opcional para esta práctica, se proponen los siguientes ejecicios. También es recomendable echar un vistazo a los tutoriales de numpy y pandas, así como repasar python3 si uno piensa que podría hacerle falta."
   ]
  },
  {
   "cell_type": "markdown",
   "metadata": {},
   "source": [
    "### 1. Crea un vector de numpy nulo (todo ceros) de 10 elementos pero cuyo 5º elemento sea un 5\n",
    "**No vale definirlo explicitamente!**"
   ]
  },
  {
   "cell_type": "code",
   "execution_count": null,
   "metadata": {},
   "outputs": [],
   "source": [
    "# COMPLETAR CODIGO en ???\n",
    "v = np.???\n",
    "???\n",
    "print(v)\n",
    "assert(np.array_equal(v, [0,0,0,0,5,0,0,0,0,0])), \"Tu array no es valido!\""
   ]
  },
  {
   "cell_type": "markdown",
   "metadata": {},
   "source": [
    "### 2. Crea una matriz de 4x5 en los que todos los elementos tengan un valor de 2"
   ]
  },
  {
   "cell_type": "code",
   "execution_count": null,
   "metadata": {},
   "outputs": [],
   "source": [
    "# COMPLETAR CODIGO en ???\n",
    "v = ???\n",
    "print(v)\n",
    "assert(np.array_equal(v, [[2,2,2,2,2],[2,2,2,2,2],[2,2,2,2,2],[2,2,2,2,2]])), \"Tu matriz no es valida!\""
   ]
  },
  {
   "cell_type": "markdown",
   "metadata": {},
   "source": [
    "### 3. Crea una matriz de 3x3 cuyos elementos de la diagonal sean 3 y los demas ceros"
   ]
  },
  {
   "cell_type": "code",
   "execution_count": null,
   "metadata": {},
   "outputs": [],
   "source": [
    "# COMPLETAR CODIGO en ???\n",
    "v = ???\n",
    "print(v)\n",
    "assert(np.array_equal(v, [(3,0,0),(0,3,0),(0,0,3)])), \"Tu matriz no es valida!\""
   ]
  },
  {
   "cell_type": "markdown",
   "metadata": {},
   "source": [
    "### 4. De la siguiente matriz A de 4x4, obten la submatriz de 2x2 del cuadrante de abajo a la derecha"
   ]
  },
  {
   "cell_type": "code",
   "execution_count": null,
   "metadata": {},
   "outputs": [],
   "source": [
    "# COMPLETAR CODIGO en ???\n",
    "A = np.arange(16).reshape(4,4).transpose()\n",
    "asub = ???\n",
    "print(A, \"\\n\")\n",
    "print(asub)\n",
    "assert(np.array_equal(asub, [[10,14],[11,15]])), \"Tu matriz no es valida!\""
   ]
  },
  {
   "cell_type": "markdown",
   "metadata": {},
   "source": [
    "### 5. De la siguiente matriz A de 5x5 obten la matriz central de 3x3 que resulta de quitar todos los elementos periféricos"
   ]
  },
  {
   "cell_type": "code",
   "execution_count": null,
   "metadata": {},
   "outputs": [],
   "source": [
    "# COMPLETAR CODIGO en ???\n",
    "A = np.arange(25).reshape(5,5).transpose()\n",
    "asub = ???\n",
    "print(A, \"\\n\")\n",
    "print(asub)\n",
    "assert(np.array_equal(asub, [[6,11,16],[7,12,17],[8,13,18]])), \"Tu matriz no es valida!\""
   ]
  },
  {
   "cell_type": "markdown",
   "metadata": {},
   "source": [
    "### 6. Este el el código con el que generamos nuestro DataFrame inicial para el ejemplo...\n",
    "Si observas, las tres funciones ```np.random``` generan datos aleatorios, cada una siguiendo una distribución distinta. No obstante las tres funciones comparten un parámetro común llamado ```size```que determina el tamaño de muestras (el número de filas) que tendrá nuestro DataFrame."
   ]
  },
  {
   "cell_type": "markdown",
   "metadata": {},
   "source": [
    "Antes de seguir, vuelve al apartado de las gráficas y observa los dos histogramas que generamos cuando estabamos evaluando la práctica. Estos histogramas se generaron para un valor de muestra de ```n=100```. Una vez los hayas visualizado bien vuelve a este código y ejecútalo incrementando el valor de ```n```, tendrás que incrementarlo en un factor de 10x cada vez. Vuelve arriba y genera de nuevo las gráficas, ¿que está ocurriendo, porqué se modifican así?"
   ]
  },
  {
   "cell_type": "code",
   "execution_count": null,
   "metadata": {},
   "outputs": [],
   "source": [
    "# Generamos n ocurrencias de una variable aleatoria uniforme:\n",
    "n = ???\n",
    "unif = np.random.uniform(size = n)\n",
    "# Generamos n ocurrencias de una variable aleatoria gaussiana:\n",
    "gauss = np.random.normal(loc = 0, scale = 1, size = n)\n",
    "# Generamos n ocurrencias de una variable aleatoria discreta:\n",
    "dias = np.random.choice([\"lunes\", \"martes\", \"jueves\"], size = n)\n",
    "\n",
    "# Ahora podemos crear el dataframe pasandole para ello un diccionario con las variables y sus nombres:\n",
    "df = pd.DataFrame({\"uniforme\" : unif, \"gaussiana\" : gauss, \"dias\" : dias})"
   ]
  },
  {
   "cell_type": "markdown",
   "metadata": {},
   "source": [
    "### 7. (solo leer, ejecutar y pensar) Vamos a añadir una nueva variable a nuestro Dataframe...\n",
    "En este caso se trata de la variable gaussiana3 que será nuestra misma variable anterior pero multiplicada por 3"
   ]
  },
  {
   "cell_type": "code",
   "execution_count": null,
   "metadata": {},
   "outputs": [],
   "source": [
    "# Generamos 1000 ocurrencias de una variable aleatoria uniforme:\n",
    "n = 1000\n",
    "unif = np.random.uniform(size = n)\n",
    "# Generamos 1000 ocurrencias de una variable aleatoria gaussiana:\n",
    "gauss = np.random.normal(loc = 0, scale = 1, size = n)\n",
    "# Generamos 1000 ocurrencias de una variable aleatoria discreta:\n",
    "dias = np.random.choice([\"lunes\", \"martes\", \"jueves\"], size = n)\n",
    "\n",
    "# Nueva Variable\n",
    "gauss3 = gauss * 3\n",
    "\n",
    "# Ahora podemos crear el dataframe pasandole para ello un diccionario con las variables y sus nombres:\n",
    "df = pd.DataFrame({\"uniforme\" : unif, \"gaussiana\" : gauss, \"gaussiana3\" : gauss3, \"dias\" : dias})"
   ]
  },
  {
   "cell_type": "markdown",
   "metadata": {},
   "source": [
    "Ahora repetiremos el **scatterplot** anterior pero utilizando gaussiana y gaussiana3, ¿eres capaz de identificar alguna diferencia fundamental?, ¿qué ha ocurrido?."
   ]
  },
  {
   "cell_type": "code",
   "execution_count": null,
   "metadata": {},
   "outputs": [],
   "source": [
    "sns.jointplot(x=\"gaussiana\", y=\"gaussiana3\", data=df)"
   ]
  },
  {
   "cell_type": "markdown",
   "metadata": {},
   "source": [
    "### 8.  (solo leer, ejecutar y pensar) Vamos a introducir un nuevo concepto: Modificar el DataFrame\n",
    "Concretamente, vamos a modificar la variable Gaussiana con respecto a la variable dias, para ello simplemente seleccionaremos los elementos de cada dias y multiplicaremos por un valor concreto."
   ]
  },
  {
   "cell_type": "code",
   "execution_count": null,
   "metadata": {},
   "outputs": [],
   "source": [
    "# Recordad como se efectuaba la selección, ahora simplemente añadirmos una operación y una actualización\n",
    "df.loc[df.dias=='lunes',['gaussiana']] = df.loc[df.dias=='lunes',['gaussiana']]*10\n",
    "df.loc[df.dias=='martes',['gaussiana']] = df.loc[df.dias=='martes',['gaussiana']]*50"
   ]
  },
  {
   "cell_type": "markdown",
   "metadata": {},
   "source": [
    "Ahora que hemos modificado la variable gaussiana en función del dias, vamos a repetir el gráfico anterior que separaba cada histograma por dias. ¿Qué cambios puedes apreciar?, ¿Cuál es el motivo?"
   ]
  },
  {
   "cell_type": "code",
   "execution_count": null,
   "metadata": {},
   "outputs": [],
   "source": [
    "g = sns.FacetGrid(df, col=\"dias\", hue=\"dias\")\n",
    "g.map(plt.hist, \"gaussiana\");"
   ]
  },
  {
   "cell_type": "code",
   "execution_count": null,
   "metadata": {},
   "outputs": [],
   "source": []
  }
 ],
 "metadata": {
  "kernelspec": {
   "display_name": "Python 3",
   "language": "python",
   "name": "python3"
  },
  "language_info": {
   "codemirror_mode": {
    "name": "ipython",
    "version": 3
   },
   "file_extension": ".py",
   "mimetype": "text/x-python",
   "name": "python",
   "nbconvert_exporter": "python",
   "pygments_lexer": "ipython3",
   "version": "3.6.2"
  }
 },
 "nbformat": 4,
 "nbformat_minor": 1
}
